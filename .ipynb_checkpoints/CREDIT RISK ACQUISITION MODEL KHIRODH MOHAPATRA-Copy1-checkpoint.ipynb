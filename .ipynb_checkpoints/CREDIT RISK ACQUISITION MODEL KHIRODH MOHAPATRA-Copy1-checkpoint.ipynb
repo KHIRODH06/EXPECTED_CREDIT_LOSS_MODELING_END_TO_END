{
 "cells": [
  {
   "cell_type": "markdown",
   "id": "d0a2825e-fbaf-494c-a586-8537e3c9814d",
   "metadata": {},
   "source": [
    "### BUSSINESS OBJECTIVE"
   ]
  },
  {
   "cell_type": "markdown",
   "id": "74b4cbac-3e02-432a-90d6-4a1c3e0e0fb0",
   "metadata": {},
   "source": [
    "### DESCRIPTION"
   ]
  },
  {
   "cell_type": "markdown",
   "id": "e6f222b2-ac79-448a-9155-6180e9f7920c",
   "metadata": {},
   "source": [
    "### IMPORT DATASETS AND BASIC OUTLOOK"
   ]
  },
  {
   "cell_type": "code",
   "execution_count": 75,
   "id": "b7826222-639c-4c2a-bf72-8acb2a07d6ff",
   "metadata": {},
   "outputs": [
    {
     "data": {
      "text/html": [
       "<div>\n",
       "<style scoped>\n",
       "    .dataframe tbody tr th:only-of-type {\n",
       "        vertical-align: middle;\n",
       "    }\n",
       "\n",
       "    .dataframe tbody tr th {\n",
       "        vertical-align: top;\n",
       "    }\n",
       "\n",
       "    .dataframe thead th {\n",
       "        text-align: right;\n",
       "    }\n",
       "</style>\n",
       "<table border=\"1\" class=\"dataframe\">\n",
       "  <thead>\n",
       "    <tr style=\"text-align: right;\">\n",
       "      <th></th>\n",
       "      <th>Sr_No</th>\n",
       "      <th>SeriousDlqin2yrs</th>\n",
       "      <th>monthly_utilization</th>\n",
       "      <th>age</th>\n",
       "      <th>NumberOfTime30-59DaysPastDueNotWorse</th>\n",
       "      <th>DebtRatio</th>\n",
       "      <th>MonthlyIncome</th>\n",
       "      <th>NumberOfOpenCreditLinesAndLoans</th>\n",
       "      <th>NumberOfTimes90DaysLate</th>\n",
       "      <th>NumberRealEstateLoansOrLines</th>\n",
       "      <th>NumberOfTime60-89DaysPastDueNotWorse</th>\n",
       "      <th>NumberOfDependents</th>\n",
       "    </tr>\n",
       "  </thead>\n",
       "  <tbody>\n",
       "    <tr>\n",
       "      <th>0</th>\n",
       "      <td>1</td>\n",
       "      <td>1</td>\n",
       "      <td>0.766127</td>\n",
       "      <td>45</td>\n",
       "      <td>2</td>\n",
       "      <td>0.802982</td>\n",
       "      <td>9120.0</td>\n",
       "      <td>13</td>\n",
       "      <td>0</td>\n",
       "      <td>6</td>\n",
       "      <td>0</td>\n",
       "      <td>2.0</td>\n",
       "    </tr>\n",
       "    <tr>\n",
       "      <th>1</th>\n",
       "      <td>2</td>\n",
       "      <td>0</td>\n",
       "      <td>0.957151</td>\n",
       "      <td>40</td>\n",
       "      <td>0</td>\n",
       "      <td>0.121876</td>\n",
       "      <td>2600.0</td>\n",
       "      <td>4</td>\n",
       "      <td>0</td>\n",
       "      <td>0</td>\n",
       "      <td>0</td>\n",
       "      <td>1.0</td>\n",
       "    </tr>\n",
       "    <tr>\n",
       "      <th>2</th>\n",
       "      <td>3</td>\n",
       "      <td>0</td>\n",
       "      <td>0.658180</td>\n",
       "      <td>38</td>\n",
       "      <td>1</td>\n",
       "      <td>0.085113</td>\n",
       "      <td>3042.0</td>\n",
       "      <td>2</td>\n",
       "      <td>1</td>\n",
       "      <td>0</td>\n",
       "      <td>0</td>\n",
       "      <td>0.0</td>\n",
       "    </tr>\n",
       "    <tr>\n",
       "      <th>3</th>\n",
       "      <td>4</td>\n",
       "      <td>0</td>\n",
       "      <td>0.233810</td>\n",
       "      <td>30</td>\n",
       "      <td>0</td>\n",
       "      <td>0.036050</td>\n",
       "      <td>3300.0</td>\n",
       "      <td>5</td>\n",
       "      <td>0</td>\n",
       "      <td>0</td>\n",
       "      <td>0</td>\n",
       "      <td>0.0</td>\n",
       "    </tr>\n",
       "    <tr>\n",
       "      <th>4</th>\n",
       "      <td>5</td>\n",
       "      <td>0</td>\n",
       "      <td>0.907239</td>\n",
       "      <td>49</td>\n",
       "      <td>1</td>\n",
       "      <td>0.024926</td>\n",
       "      <td>63588.0</td>\n",
       "      <td>7</td>\n",
       "      <td>0</td>\n",
       "      <td>1</td>\n",
       "      <td>0</td>\n",
       "      <td>0.0</td>\n",
       "    </tr>\n",
       "  </tbody>\n",
       "</table>\n",
       "</div>"
      ],
      "text/plain": [
       "   Sr_No  SeriousDlqin2yrs  monthly_utilization  age  \\\n",
       "0      1                 1             0.766127   45   \n",
       "1      2                 0             0.957151   40   \n",
       "2      3                 0             0.658180   38   \n",
       "3      4                 0             0.233810   30   \n",
       "4      5                 0             0.907239   49   \n",
       "\n",
       "   NumberOfTime30-59DaysPastDueNotWorse  DebtRatio  MonthlyIncome  \\\n",
       "0                                     2   0.802982         9120.0   \n",
       "1                                     0   0.121876         2600.0   \n",
       "2                                     1   0.085113         3042.0   \n",
       "3                                     0   0.036050         3300.0   \n",
       "4                                     1   0.024926        63588.0   \n",
       "\n",
       "   NumberOfOpenCreditLinesAndLoans  NumberOfTimes90DaysLate  \\\n",
       "0                               13                        0   \n",
       "1                                4                        0   \n",
       "2                                2                        1   \n",
       "3                                5                        0   \n",
       "4                                7                        0   \n",
       "\n",
       "   NumberRealEstateLoansOrLines  NumberOfTime60-89DaysPastDueNotWorse  \\\n",
       "0                             6                                     0   \n",
       "1                             0                                     0   \n",
       "2                             0                                     0   \n",
       "3                             0                                     0   \n",
       "4                             1                                     0   \n",
       "\n",
       "   NumberOfDependents  \n",
       "0                 2.0  \n",
       "1                 1.0  \n",
       "2                 0.0  \n",
       "3                 0.0  \n",
       "4                 0.0  "
      ]
     },
     "execution_count": 75,
     "metadata": {},
     "output_type": "execute_result"
    }
   ],
   "source": [
    "import pandas as pd\n",
    "import numpy as np\n",
    "\n",
    "url = 'https://raw.githubusercontent.com/venkatareddykonasani/Datasets/master/Give%20me%20some%20Credit/cs-training.csv'\n",
    "loans = pd.read_csv(url)\n",
    "loans.head()"
   ]
  },
  {
   "cell_type": "code",
   "execution_count": 76,
   "id": "877d924b-a5ed-4182-b118-ddb13ad9bb85",
   "metadata": {},
   "outputs": [
    {
     "data": {
      "text/plain": [
       "(150000, 12)"
      ]
     },
     "execution_count": 76,
     "metadata": {},
     "output_type": "execute_result"
    }
   ],
   "source": [
    "loans.shape"
   ]
  },
  {
   "cell_type": "code",
   "execution_count": 77,
   "id": "4ff9b0d4-0212-446d-b91b-7bfebdd13eaa",
   "metadata": {},
   "outputs": [
    {
     "name": "stdout",
     "output_type": "stream",
     "text": [
      "<class 'pandas.core.frame.DataFrame'>\n",
      "RangeIndex: 150000 entries, 0 to 149999\n",
      "Data columns (total 12 columns):\n",
      " #   Column                                Non-Null Count   Dtype  \n",
      "---  ------                                --------------   -----  \n",
      " 0   Sr_No                                 150000 non-null  int64  \n",
      " 1   SeriousDlqin2yrs                      150000 non-null  int64  \n",
      " 2   monthly_utilization                   150000 non-null  float64\n",
      " 3   age                                   150000 non-null  int64  \n",
      " 4   NumberOfTime30-59DaysPastDueNotWorse  150000 non-null  int64  \n",
      " 5   DebtRatio                             150000 non-null  float64\n",
      " 6   MonthlyIncome                         120269 non-null  float64\n",
      " 7   NumberOfOpenCreditLinesAndLoans       150000 non-null  int64  \n",
      " 8   NumberOfTimes90DaysLate               150000 non-null  int64  \n",
      " 9   NumberRealEstateLoansOrLines          150000 non-null  int64  \n",
      " 10  NumberOfTime60-89DaysPastDueNotWorse  150000 non-null  int64  \n",
      " 11  NumberOfDependents                    146076 non-null  float64\n",
      "dtypes: float64(4), int64(8)\n",
      "memory usage: 13.7 MB\n"
     ]
    }
   ],
   "source": [
    "loans.info()"
   ]
  },
  {
   "cell_type": "code",
   "execution_count": 78,
   "id": "a1d36ead-eda8-4755-9f67-59fdf25d183a",
   "metadata": {},
   "outputs": [
    {
     "data": {
      "text/plain": [
       "array(['Sr_No', 'SeriousDlqin2yrs', 'monthly_utilization', 'age',\n",
       "       'NumberOfTime30-59DaysPastDueNotWorse', 'DebtRatio',\n",
       "       'MonthlyIncome', 'NumberOfOpenCreditLinesAndLoans',\n",
       "       'NumberOfTimes90DaysLate', 'NumberRealEstateLoansOrLines',\n",
       "       'NumberOfTime60-89DaysPastDueNotWorse', 'NumberOfDependents'],\n",
       "      dtype=object)"
      ]
     },
     "execution_count": 78,
     "metadata": {},
     "output_type": "execute_result"
    }
   ],
   "source": [
    "loans.columns.values"
   ]
  },
  {
   "cell_type": "markdown",
   "id": "b6bfbf45-5c41-4371-b3f8-9affeb75e51b",
   "metadata": {},
   "source": [
    "### DATA EXPLORATION"
   ]
  },
  {
   "cell_type": "markdown",
   "id": "53a80887-652d-4a74-8d94-f76bd623e95f",
   "metadata": {},
   "source": [
    "#### CATEGORICAL OR DISCRETE VARIABLES "
   ]
  },
  {
   "cell_type": "markdown",
   "id": "5f9566e6-063c-4d7d-ac27-82fa2ba7caf0",
   "metadata": {},
   "source": [
    "**DISCRETE VARIABLES**"
   ]
  },
  {
   "cell_type": "code",
   "execution_count": 79,
   "id": "9f061c14-19fa-4f14-ab2b-ef99e91104ea",
   "metadata": {},
   "outputs": [],
   "source": [
    "# Sr_No: Unique identifier (count)\n",
    "# SeriousDlqin2yrs: Binary (0/1) indicating default event\n",
    "# NumberOfTime30-59DaysPastDueNotWorse: Count of moderate delinquencies\n",
    "# NumberOfTimes90DaysLate: Count of serious delinquencies\n",
    "# NumberRealEstateLoansOrLines: Count of real estate loans\n",
    "# NumberOfTime60-89DaysPastDueNotWorse: Count of mid-level delinquencies\n",
    "# NumberOfDependents: Count of dependents\n",
    "# NumberOfOpenCreditLinesAndLoans: Count of open credit accounts"
   ]
  },
  {
   "cell_type": "markdown",
   "id": "383583a5-3e5b-4ce4-8eb9-4abbf9312d19",
   "metadata": {},
   "source": [
    "**CATEGORICAL VARIABLES**"
   ]
  },
  {
   "cell_type": "code",
   "execution_count": 80,
   "id": "e2f79915-8b90-452e-8484-f87da069e68b",
   "metadata": {},
   "outputs": [],
   "source": [
    "# SeriousDlqin2yrs:Technically binary classification (0/1), often treated as categorical"
   ]
  },
  {
   "cell_type": "code",
   "execution_count": 81,
   "id": "d3cb2af1-b77b-4675-b118-59d0d3cb0b9c",
   "metadata": {},
   "outputs": [
    {
     "data": {
      "text/plain": [
       "SeriousDlqin2yrs\n",
       "0    139974\n",
       "1     10026\n",
       "Name: count, dtype: int64"
      ]
     },
     "execution_count": 81,
     "metadata": {},
     "output_type": "execute_result"
    }
   ],
   "source": [
    "loans['SeriousDlqin2yrs'].value_counts()"
   ]
  },
  {
   "cell_type": "code",
   "execution_count": 82,
   "id": "c410d87d-f1b7-48a0-89d5-9567c1d6ef67",
   "metadata": {},
   "outputs": [
    {
     "data": {
      "text/plain": [
       "NumberOfTime30-59DaysPastDueNotWorse\n",
       "0     126018\n",
       "1      16033\n",
       "2       4598\n",
       "3       1754\n",
       "4        747\n",
       "5        342\n",
       "98       264\n",
       "6        140\n",
       "7         54\n",
       "8         25\n",
       "9         12\n",
       "96         5\n",
       "10         4\n",
       "12         2\n",
       "13         1\n",
       "11         1\n",
       "Name: count, dtype: int64"
      ]
     },
     "execution_count": 82,
     "metadata": {},
     "output_type": "execute_result"
    }
   ],
   "source": [
    "loans['NumberOfTime30-59DaysPastDueNotWorse'].value_counts()"
   ]
  },
  {
   "cell_type": "code",
   "execution_count": 83,
   "id": "515f919b-7e94-4d9c-b98e-e56de0933cca",
   "metadata": {},
   "outputs": [
    {
     "data": {
      "text/plain": [
       "NumberOfTimes90DaysLate\n",
       "0     141662\n",
       "1       5243\n",
       "2       1555\n",
       "3        667\n",
       "4        291\n",
       "98       264\n",
       "5        131\n",
       "6         80\n",
       "7         38\n",
       "8         21\n",
       "9         19\n",
       "10         8\n",
       "96         5\n",
       "11         5\n",
       "13         4\n",
       "15         2\n",
       "14         2\n",
       "12         2\n",
       "17         1\n",
       "Name: count, dtype: int64"
      ]
     },
     "execution_count": 83,
     "metadata": {},
     "output_type": "execute_result"
    }
   ],
   "source": [
    "loans['NumberOfTimes90DaysLate'].value_counts()"
   ]
  },
  {
   "cell_type": "code",
   "execution_count": 84,
   "id": "b0f546dc-4b47-4b2a-b957-5b1ffefa173d",
   "metadata": {},
   "outputs": [
    {
     "data": {
      "text/plain": [
       "NumberRealEstateLoansOrLines\n",
       "0     56188\n",
       "1     52338\n",
       "2     31522\n",
       "3      6300\n",
       "4      2170\n",
       "5       689\n",
       "6       320\n",
       "7       171\n",
       "8        93\n",
       "9        78\n",
       "10       37\n",
       "11       23\n",
       "12       18\n",
       "13       15\n",
       "15        7\n",
       "14        7\n",
       "17        4\n",
       "16        4\n",
       "25        3\n",
       "18        2\n",
       "23        2\n",
       "19        2\n",
       "20        2\n",
       "26        1\n",
       "54        1\n",
       "21        1\n",
       "29        1\n",
       "32        1\n",
       "Name: count, dtype: int64"
      ]
     },
     "execution_count": 84,
     "metadata": {},
     "output_type": "execute_result"
    }
   ],
   "source": [
    "loans['NumberRealEstateLoansOrLines'].value_counts()"
   ]
  },
  {
   "cell_type": "code",
   "execution_count": 85,
   "id": "935d28b3-1915-4521-8233-aabf9b322849",
   "metadata": {},
   "outputs": [
    {
     "data": {
      "text/plain": [
       "NumberOfTime60-89DaysPastDueNotWorse\n",
       "0     142396\n",
       "1       5731\n",
       "2       1118\n",
       "3        318\n",
       "98       264\n",
       "4        105\n",
       "5         34\n",
       "6         16\n",
       "7          9\n",
       "96         5\n",
       "8          2\n",
       "11         1\n",
       "9          1\n",
       "Name: count, dtype: int64"
      ]
     },
     "execution_count": 85,
     "metadata": {},
     "output_type": "execute_result"
    }
   ],
   "source": [
    "loans['NumberOfTime60-89DaysPastDueNotWorse'].value_counts()"
   ]
  },
  {
   "cell_type": "code",
   "execution_count": 86,
   "id": "132bb8e7-ca39-4284-8187-95e1b4564381",
   "metadata": {},
   "outputs": [
    {
     "data": {
      "text/plain": [
       "NumberOfDependents\n",
       "0.0     86902\n",
       "1.0     26316\n",
       "2.0     19522\n",
       "3.0      9483\n",
       "4.0      2862\n",
       "5.0       746\n",
       "6.0       158\n",
       "7.0        51\n",
       "8.0        24\n",
       "10.0        5\n",
       "9.0         5\n",
       "20.0        1\n",
       "13.0        1\n",
       "Name: count, dtype: int64"
      ]
     },
     "execution_count": 86,
     "metadata": {},
     "output_type": "execute_result"
    }
   ],
   "source": [
    "loans['NumberOfDependents'].value_counts()"
   ]
  },
  {
   "cell_type": "code",
   "execution_count": 87,
   "id": "953373af-7d42-4370-8bd3-21189b164cdc",
   "metadata": {},
   "outputs": [
    {
     "data": {
      "text/plain": [
       "NumberOfOpenCreditLinesAndLoans\n",
       "6     13614\n",
       "7     13245\n",
       "5     12931\n",
       "8     12562\n",
       "4     11609\n",
       "9     11355\n",
       "10     9624\n",
       "3      9058\n",
       "11     8321\n",
       "12     7005\n",
       "2      6666\n",
       "13     5667\n",
       "14     4546\n",
       "1      4438\n",
       "15     3645\n",
       "16     3000\n",
       "17     2370\n",
       "0      1888\n",
       "18     1874\n",
       "19     1433\n",
       "20     1169\n",
       "21      864\n",
       "22      685\n",
       "23      533\n",
       "24      422\n",
       "25      337\n",
       "26      239\n",
       "27      194\n",
       "28      150\n",
       "29      114\n",
       "30       88\n",
       "31       74\n",
       "32       52\n",
       "33       47\n",
       "34       35\n",
       "35       27\n",
       "36       18\n",
       "38       13\n",
       "40       10\n",
       "39        9\n",
       "42        8\n",
       "45        8\n",
       "43        8\n",
       "37        7\n",
       "48        6\n",
       "49        4\n",
       "54        4\n",
       "41        4\n",
       "52        3\n",
       "46        3\n",
       "57        2\n",
       "51        2\n",
       "56        2\n",
       "47        2\n",
       "50        2\n",
       "44        2\n",
       "58        1\n",
       "53        1\n",
       "Name: count, dtype: int64"
      ]
     },
     "execution_count": 87,
     "metadata": {},
     "output_type": "execute_result"
    }
   ],
   "source": [
    "loans['NumberOfOpenCreditLinesAndLoans'].value_counts()"
   ]
  },
  {
   "cell_type": "code",
   "execution_count": null,
   "id": "d4a89930-42a3-4f2c-9ca4-bde8dd54e199",
   "metadata": {},
   "outputs": [],
   "source": []
  },
  {
   "cell_type": "markdown",
   "id": "73dd072a-f5ad-46a0-9f1d-76a31105b455",
   "metadata": {
    "jp-MarkdownHeadingCollapsed": true
   },
   "source": [
    "#### CONTINUOUS VARIABLES"
   ]
  },
  {
   "cell_type": "code",
   "execution_count": 88,
   "id": "0a5e8636-d785-452f-9357-984af6a3fbba",
   "metadata": {},
   "outputs": [],
   "source": [
    "# monthly_utilization: Ratio, continuous between 0 and 1+\n",
    "# age: Measured in years, real-valued, as has so many values treated as continous\n",
    "# DebtRatio: Continuous percentage or ratio\n",
    "# MonthlyIncome: Can take any positive value, usually real-valued"
   ]
  },
  {
   "cell_type": "code",
   "execution_count": 89,
   "id": "6c0eb37c-2161-4f20-9a55-cd22ba53b58d",
   "metadata": {},
   "outputs": [
    {
     "data": {
      "text/plain": [
       "0.0        0.000000\n",
       "0.1        0.002969\n",
       "0.2        0.019222\n",
       "0.3        0.043461\n",
       "0.4        0.083181\n",
       "0.5        0.154181\n",
       "0.6        0.271493\n",
       "0.7        0.445136\n",
       "0.8        0.698857\n",
       "0.9        0.981278\n",
       "1.0    50708.000000\n",
       "Name: monthly_utilization, dtype: float64"
      ]
     },
     "execution_count": 89,
     "metadata": {},
     "output_type": "execute_result"
    }
   ],
   "source": [
    "loans['monthly_utilization'].quantile([0,0.1,0.2,0.3,0.4,0.5,0.6,0.7,0.8,0.9,1])"
   ]
  },
  {
   "cell_type": "code",
   "execution_count": 90,
   "id": "6212627e-7040-4d8a-a12e-aa082ed18e1e",
   "metadata": {},
   "outputs": [
    {
     "data": {
      "text/plain": [
       "0.0         0.000000\n",
       "0.1         0.030874\n",
       "0.2         0.133773\n",
       "0.3         0.213697\n",
       "0.4         0.287460\n",
       "0.5         0.366508\n",
       "0.6         0.467506\n",
       "0.7         0.649189\n",
       "0.8         4.000000\n",
       "0.9      1267.000000\n",
       "1.0    329664.000000\n",
       "Name: DebtRatio, dtype: float64"
      ]
     },
     "execution_count": 90,
     "metadata": {},
     "output_type": "execute_result"
    }
   ],
   "source": [
    "loans['DebtRatio'].quantile([0,0.1,0.2,0.3,0.4,0.5,0.6,0.7,0.8,0.9,1])"
   ]
  },
  {
   "cell_type": "code",
   "execution_count": 91,
   "id": "57943863-d897-4196-8828-6bff6925284b",
   "metadata": {},
   "outputs": [
    {
     "data": {
      "text/plain": [
       "0.70    0.649189\n",
       "0.71    0.678073\n",
       "0.72    0.711772\n",
       "0.73    0.752078\n",
       "0.74    0.802954\n",
       "0.75    0.868254\n",
       "0.76    0.951184\n",
       "0.77    1.058832\n",
       "0.78    1.275069\n",
       "0.79    1.759204\n",
       "0.80    4.000000\n",
       "Name: DebtRatio, dtype: float64"
      ]
     },
     "execution_count": 91,
     "metadata": {},
     "output_type": "execute_result"
    }
   ],
   "source": [
    "loans['DebtRatio'].quantile([0.7,0.71,0.72,0.73,0.74,0.75,0.76,0.77,0.78,0.79,0.8])"
   ]
  },
  {
   "cell_type": "code",
   "execution_count": 92,
   "id": "2b629c13-f6de-458c-b96b-ff2612e61487",
   "metadata": {},
   "outputs": [
    {
     "data": {
      "text/plain": [
       "0.0      0.0\n",
       "0.1     33.0\n",
       "0.2     39.0\n",
       "0.3     44.0\n",
       "0.4     48.0\n",
       "0.5     52.0\n",
       "0.6     56.0\n",
       "0.7     61.0\n",
       "0.8     65.0\n",
       "0.9     72.0\n",
       "1.0    109.0\n",
       "Name: age, dtype: float64"
      ]
     },
     "execution_count": 92,
     "metadata": {},
     "output_type": "execute_result"
    }
   ],
   "source": [
    "loans['age'].quantile([0,0.1,0.2,0.3,0.4,0.5,0.6,0.7,0.8,0.9,1])"
   ]
  },
  {
   "cell_type": "code",
   "execution_count": 93,
   "id": "10a8b4ec-f7b6-4bca-99e8-883919d7650d",
   "metadata": {},
   "outputs": [
    {
     "data": {
      "text/plain": [
       "0.00     0.0\n",
       "0.01    24.0\n",
       "0.02    25.0\n",
       "0.03    27.0\n",
       "0.04    28.0\n",
       "0.05    29.0\n",
       "0.06    30.0\n",
       "0.07    30.0\n",
       "0.08    31.0\n",
       "0.09    32.0\n",
       "0.10    33.0\n",
       "Name: age, dtype: float64"
      ]
     },
     "execution_count": 93,
     "metadata": {},
     "output_type": "execute_result"
    }
   ],
   "source": [
    "loans['age'].quantile([0,0.01,0.02,0.03,0.04,0.05,0.06,0.07,0.08,0.09,0.1])"
   ]
  },
  {
   "cell_type": "code",
   "execution_count": 94,
   "id": "e1c74337-327e-431b-88e2-c7a64eed0827",
   "metadata": {},
   "outputs": [
    {
     "data": {
      "text/plain": [
       "0.80    65.0\n",
       "0.81    66.0\n",
       "0.82    66.0\n",
       "0.83    67.0\n",
       "0.84    67.0\n",
       "0.85    68.0\n",
       "0.86    69.0\n",
       "0.87    69.0\n",
       "0.88    70.0\n",
       "0.89    71.0\n",
       "0.90    72.0\n",
       "Name: age, dtype: float64"
      ]
     },
     "execution_count": 94,
     "metadata": {},
     "output_type": "execute_result"
    }
   ],
   "source": [
    "loans['age'].quantile([0.8,0.81,0.82,0.83,0.84,0.85,0.86,0.87,0.88,0.89,0.9])"
   ]
  },
  {
   "cell_type": "code",
   "execution_count": 95,
   "id": "38bfc6bb-920b-4cbd-93e9-230867333d20",
   "metadata": {},
   "outputs": [
    {
     "data": {
      "text/plain": [
       "0.90     72.0\n",
       "0.91     73.0\n",
       "0.92     74.0\n",
       "0.93     75.0\n",
       "0.94     76.0\n",
       "0.95     78.0\n",
       "0.96     79.0\n",
       "0.97     81.0\n",
       "0.98     84.0\n",
       "0.99     87.0\n",
       "1.00    109.0\n",
       "Name: age, dtype: float64"
      ]
     },
     "execution_count": 95,
     "metadata": {},
     "output_type": "execute_result"
    }
   ],
   "source": [
    "loans['age'].quantile([0.9,0.91,0.92,0.93,0.94,0.95,0.96,0.97,0.98,0.99,1])"
   ]
  },
  {
   "cell_type": "markdown",
   "id": "e808f2b7-46fc-4543-b114-28a128fef387",
   "metadata": {},
   "source": [
    "### DATA CLEANING"
   ]
  },
  {
   "cell_type": "markdown",
   "id": "a8e38f77-ddde-4967-a69c-dd74ff8a8222",
   "metadata": {},
   "source": [
    "#### DATA CLEANING VARIABLE 'AGE'"
   ]
  },
  {
   "cell_type": "code",
   "execution_count": 96,
   "id": "9dfe4be0-5878-414d-8545-e4d9c96258bc",
   "metadata": {},
   "outputs": [
    {
     "name": "stdout",
     "output_type": "stream",
     "text": [
      "52.0\n"
     ]
    }
   ],
   "source": [
    "median_age=loans['age'].median()\n",
    "print(median_age)"
   ]
  },
  {
   "cell_type": "code",
   "execution_count": 97,
   "id": "7d18e0e7-62ef-4450-9eda-ab361c922b27",
   "metadata": {},
   "outputs": [
    {
     "name": "stderr",
     "output_type": "stream",
     "text": [
      "C:\\Users\\khiro\\AppData\\Local\\Temp\\ipykernel_17084\\816835504.py:2: FutureWarning: ChainedAssignmentError: behaviour will change in pandas 3.0!\n",
      "You are setting values through chained assignment. Currently this works in certain cases, but when using Copy-on-Write (which will become the default behaviour in pandas 3.0) this will never work to update the original DataFrame or Series, because the intermediate object on which we are setting values will behave as a copy.\n",
      "A typical example is when you are setting values in a column of a DataFrame, like:\n",
      "\n",
      "df[\"col\"][row_indexer] = value\n",
      "\n",
      "Use `df.loc[row_indexer, \"col\"] = values` instead, to perform the assignment in a single step and ensure this keeps updating the original `df`.\n",
      "\n",
      "See the caveats in the documentation: https://pandas.pydata.org/pandas-docs/stable/user_guide/indexing.html#returning-a-view-versus-a-copy\n",
      "\n",
      "  loans['Age_Cleaned'][loans['age']>75]=median_age\n",
      "C:\\Users\\khiro\\AppData\\Local\\Temp\\ipykernel_17084\\816835504.py:2: SettingWithCopyWarning: \n",
      "A value is trying to be set on a copy of a slice from a DataFrame\n",
      "\n",
      "See the caveats in the documentation: https://pandas.pydata.org/pandas-docs/stable/user_guide/indexing.html#returning-a-view-versus-a-copy\n",
      "  loans['Age_Cleaned'][loans['age']>75]=median_age\n"
     ]
    }
   ],
   "source": [
    "loans['Age_Cleaned']=loans['age']\n",
    "loans['Age_Cleaned'][loans['age']>75]=median_age"
   ]
  },
  {
   "cell_type": "code",
   "execution_count": 98,
   "id": "3ce7ab70-604e-4fde-9fed-2096503394ac",
   "metadata": {},
   "outputs": [
    {
     "data": {
      "text/plain": [
       "count    150000.000000\n",
       "mean         50.303340\n",
       "std          12.457292\n",
       "min           0.000000\n",
       "25%          41.000000\n",
       "50%          52.000000\n",
       "75%          60.000000\n",
       "max          75.000000\n",
       "Name: Age_Cleaned, dtype: float64"
      ]
     },
     "execution_count": 98,
     "metadata": {},
     "output_type": "execute_result"
    }
   ],
   "source": [
    "loans['Age_Cleaned'].describe()"
   ]
  },
  {
   "cell_type": "markdown",
   "id": "11795327-bf35-4c4d-8d31-e0ecde1b4672",
   "metadata": {},
   "source": [
    "#### DATA CLEANING VARIABLE 'DEBT RATIO'"
   ]
  },
  {
   "cell_type": "code",
   "execution_count": 99,
   "id": "a651041b-d6b2-4852-a2dd-6b76fe30694e",
   "metadata": {},
   "outputs": [
    {
     "name": "stderr",
     "output_type": "stream",
     "text": [
      "C:\\Users\\khiro\\AppData\\Local\\Temp\\ipykernel_17084\\1440138602.py:5: FutureWarning: ChainedAssignmentError: behaviour will change in pandas 3.0!\n",
      "You are setting values through chained assignment. Currently this works in certain cases, but when using Copy-on-Write (which will become the default behaviour in pandas 3.0) this will never work to update the original DataFrame or Series, because the intermediate object on which we are setting values will behave as a copy.\n",
      "A typical example is when you are setting values in a column of a DataFrame, like:\n",
      "\n",
      "df[\"col\"][row_indexer] = value\n",
      "\n",
      "Use `df.loc[row_indexer, \"col\"] = values` instead, to perform the assignment in a single step and ensure this keeps updating the original `df`.\n",
      "\n",
      "See the caveats in the documentation: https://pandas.pydata.org/pandas-docs/stable/user_guide/indexing.html#returning-a-view-versus-a-copy\n",
      "\n",
      "  loans[\"DebtRatio_Cleaned\"][loans[\"DebtRatio\"]>1]=loans[\"DebtRatio\"].median()\n",
      "C:\\Users\\khiro\\AppData\\Local\\Temp\\ipykernel_17084\\1440138602.py:5: SettingWithCopyWarning: \n",
      "A value is trying to be set on a copy of a slice from a DataFrame\n",
      "\n",
      "See the caveats in the documentation: https://pandas.pydata.org/pandas-docs/stable/user_guide/indexing.html#returning-a-view-versus-a-copy\n",
      "  loans[\"DebtRatio_Cleaned\"][loans[\"DebtRatio\"]>1]=loans[\"DebtRatio\"].median()\n"
     ]
    }
   ],
   "source": [
    "#AS 75% IS CLEAN DATA AND 25% IMPURE DATA , SO WE HAVE TO FOLLOW BOTH IMPUTATION AND FLAG VARIABLE CREATION\n",
    "\n",
    "#Step-1: Imputation\n",
    "loans[\"DebtRatio_Cleaned\"]=loans[\"DebtRatio\"]\n",
    "loans[\"DebtRatio_Cleaned\"][loans[\"DebtRatio\"]>1]=loans[\"DebtRatio\"].median()"
   ]
  },
  {
   "cell_type": "code",
   "execution_count": 100,
   "id": "8e862966-3010-4cbf-981d-f54fbc996480",
   "metadata": {},
   "outputs": [
    {
     "name": "stderr",
     "output_type": "stream",
     "text": [
      "C:\\Users\\khiro\\AppData\\Local\\Temp\\ipykernel_17084\\870897640.py:3: FutureWarning: ChainedAssignmentError: behaviour will change in pandas 3.0!\n",
      "You are setting values through chained assignment. Currently this works in certain cases, but when using Copy-on-Write (which will become the default behaviour in pandas 3.0) this will never work to update the original DataFrame or Series, because the intermediate object on which we are setting values will behave as a copy.\n",
      "A typical example is when you are setting values in a column of a DataFrame, like:\n",
      "\n",
      "df[\"col\"][row_indexer] = value\n",
      "\n",
      "Use `df.loc[row_indexer, \"col\"] = values` instead, to perform the assignment in a single step and ensure this keeps updating the original `df`.\n",
      "\n",
      "See the caveats in the documentation: https://pandas.pydata.org/pandas-docs/stable/user_guide/indexing.html#returning-a-view-versus-a-copy\n",
      "\n",
      "  loans[\"DebtRatio_Flag\"][loans[\"DebtRatio\"]>1]=1\n",
      "C:\\Users\\khiro\\AppData\\Local\\Temp\\ipykernel_17084\\870897640.py:3: SettingWithCopyWarning: \n",
      "A value is trying to be set on a copy of a slice from a DataFrame\n",
      "\n",
      "See the caveats in the documentation: https://pandas.pydata.org/pandas-docs/stable/user_guide/indexing.html#returning-a-view-versus-a-copy\n",
      "  loans[\"DebtRatio_Flag\"][loans[\"DebtRatio\"]>1]=1\n"
     ]
    }
   ],
   "source": [
    "#Step-2: Flag Variable\n",
    "loans[\"DebtRatio_Flag\"]=0\n",
    "loans[\"DebtRatio_Flag\"][loans[\"DebtRatio\"]>1]=1"
   ]
  },
  {
   "cell_type": "code",
   "execution_count": 101,
   "id": "f884a6f3-eb19-487a-9beb-f49a6bfd08bb",
   "metadata": {},
   "outputs": [
    {
     "data": {
      "text/plain": [
       "DebtRatio_Flag\n",
       "0    0.765753\n",
       "1    0.234247\n",
       "Name: count, dtype: float64"
      ]
     },
     "execution_count": 101,
     "metadata": {},
     "output_type": "execute_result"
    }
   ],
   "source": [
    "#cross check the 0 and 1 distribution for missing value\n",
    "loans['DebtRatio_Flag'].value_counts()/len(loans)"
   ]
  },
  {
   "cell_type": "code",
   "execution_count": null,
   "id": "c1f267a9-3e4c-4d25-aab6-747da9aa5fdd",
   "metadata": {},
   "outputs": [],
   "source": []
  },
  {
   "cell_type": "code",
   "execution_count": null,
   "id": "bf4dcd9a-9392-4087-a6d6-34fcb3ae9e1c",
   "metadata": {},
   "outputs": [],
   "source": []
  },
  {
   "cell_type": "code",
   "execution_count": null,
   "id": "be47a3ae-aade-427a-9143-12852d22b2dd",
   "metadata": {},
   "outputs": [],
   "source": []
  },
  {
   "cell_type": "code",
   "execution_count": null,
   "id": "5249a88a-bd14-4591-97c7-67be58eab1dd",
   "metadata": {},
   "outputs": [],
   "source": []
  },
  {
   "cell_type": "markdown",
   "id": "d1bcb483-40cd-4b80-8243-57585587921d",
   "metadata": {},
   "source": [
    "### WORKING ON CLEANED DATASET"
   ]
  },
  {
   "cell_type": "code",
   "execution_count": 102,
   "id": "4f7355ec-9132-44a1-b247-630ea5b5218b",
   "metadata": {},
   "outputs": [],
   "source": [
    "loans_Cleaned=pd.read_csv(\"https://raw.githubusercontent.com/venkatareddykonasani/Datasets/master/Credit_Risk_Cleaned/Cleaned_cs_training.csv\")"
   ]
  },
  {
   "cell_type": "code",
   "execution_count": 103,
   "id": "93a8a0de-fde7-4cfb-b995-4ed99c30cb2f",
   "metadata": {},
   "outputs": [
    {
     "data": {
      "text/html": [
       "<div>\n",
       "<style scoped>\n",
       "    .dataframe tbody tr th:only-of-type {\n",
       "        vertical-align: middle;\n",
       "    }\n",
       "\n",
       "    .dataframe tbody tr th {\n",
       "        vertical-align: top;\n",
       "    }\n",
       "\n",
       "    .dataframe thead th {\n",
       "        text-align: right;\n",
       "    }\n",
       "</style>\n",
       "<table border=\"1\" class=\"dataframe\">\n",
       "  <thead>\n",
       "    <tr style=\"text-align: right;\">\n",
       "      <th></th>\n",
       "      <th>Sr_No</th>\n",
       "      <th>SeriousDlqin2yrs</th>\n",
       "      <th>util_new</th>\n",
       "      <th>age_new</th>\n",
       "      <th>num_30_59_dpd_new</th>\n",
       "      <th>DebtRatio_new_ind</th>\n",
       "      <th>DebtRatio_new</th>\n",
       "      <th>MonthlyIncome_ind</th>\n",
       "      <th>MonthlyIncome_new</th>\n",
       "      <th>Open_Credit_lines_new</th>\n",
       "      <th>num_90_dpd_new</th>\n",
       "      <th>Real_estate_loans_new</th>\n",
       "      <th>num_60_dpd_new</th>\n",
       "      <th>NumberOfDependents_new</th>\n",
       "    </tr>\n",
       "  </thead>\n",
       "  <tbody>\n",
       "    <tr>\n",
       "      <th>0</th>\n",
       "      <td>3</td>\n",
       "      <td>0</td>\n",
       "      <td>0.658180</td>\n",
       "      <td>38</td>\n",
       "      <td>1</td>\n",
       "      <td>0</td>\n",
       "      <td>0.085113</td>\n",
       "      <td>1</td>\n",
       "      <td>3042</td>\n",
       "      <td>2</td>\n",
       "      <td>1</td>\n",
       "      <td>0</td>\n",
       "      <td>0</td>\n",
       "      <td>0</td>\n",
       "    </tr>\n",
       "    <tr>\n",
       "      <th>1</th>\n",
       "      <td>4</td>\n",
       "      <td>0</td>\n",
       "      <td>0.233810</td>\n",
       "      <td>30</td>\n",
       "      <td>0</td>\n",
       "      <td>0</td>\n",
       "      <td>0.036050</td>\n",
       "      <td>1</td>\n",
       "      <td>3300</td>\n",
       "      <td>5</td>\n",
       "      <td>0</td>\n",
       "      <td>0</td>\n",
       "      <td>0</td>\n",
       "      <td>0</td>\n",
       "    </tr>\n",
       "    <tr>\n",
       "      <th>2</th>\n",
       "      <td>5</td>\n",
       "      <td>0</td>\n",
       "      <td>0.907239</td>\n",
       "      <td>49</td>\n",
       "      <td>1</td>\n",
       "      <td>0</td>\n",
       "      <td>0.024926</td>\n",
       "      <td>1</td>\n",
       "      <td>5400</td>\n",
       "      <td>7</td>\n",
       "      <td>0</td>\n",
       "      <td>1</td>\n",
       "      <td>0</td>\n",
       "      <td>0</td>\n",
       "    </tr>\n",
       "    <tr>\n",
       "      <th>3</th>\n",
       "      <td>7</td>\n",
       "      <td>0</td>\n",
       "      <td>0.305682</td>\n",
       "      <td>57</td>\n",
       "      <td>0</td>\n",
       "      <td>1</td>\n",
       "      <td>0.366508</td>\n",
       "      <td>0</td>\n",
       "      <td>5400</td>\n",
       "      <td>8</td>\n",
       "      <td>0</td>\n",
       "      <td>3</td>\n",
       "      <td>0</td>\n",
       "      <td>0</td>\n",
       "    </tr>\n",
       "    <tr>\n",
       "      <th>4</th>\n",
       "      <td>8</td>\n",
       "      <td>0</td>\n",
       "      <td>0.754464</td>\n",
       "      <td>39</td>\n",
       "      <td>0</td>\n",
       "      <td>0</td>\n",
       "      <td>0.209940</td>\n",
       "      <td>1</td>\n",
       "      <td>3500</td>\n",
       "      <td>8</td>\n",
       "      <td>0</td>\n",
       "      <td>0</td>\n",
       "      <td>0</td>\n",
       "      <td>0</td>\n",
       "    </tr>\n",
       "    <tr>\n",
       "      <th>5</th>\n",
       "      <td>11</td>\n",
       "      <td>0</td>\n",
       "      <td>0.644226</td>\n",
       "      <td>30</td>\n",
       "      <td>0</td>\n",
       "      <td>0</td>\n",
       "      <td>0.309476</td>\n",
       "      <td>1</td>\n",
       "      <td>2500</td>\n",
       "      <td>5</td>\n",
       "      <td>0</td>\n",
       "      <td>0</td>\n",
       "      <td>0</td>\n",
       "      <td>0</td>\n",
       "    </tr>\n",
       "    <tr>\n",
       "      <th>6</th>\n",
       "      <td>15</td>\n",
       "      <td>0</td>\n",
       "      <td>0.019657</td>\n",
       "      <td>76</td>\n",
       "      <td>0</td>\n",
       "      <td>1</td>\n",
       "      <td>0.366508</td>\n",
       "      <td>1</td>\n",
       "      <td>0</td>\n",
       "      <td>6</td>\n",
       "      <td>0</td>\n",
       "      <td>1</td>\n",
       "      <td>0</td>\n",
       "      <td>0</td>\n",
       "    </tr>\n",
       "    <tr>\n",
       "      <th>7</th>\n",
       "      <td>17</td>\n",
       "      <td>0</td>\n",
       "      <td>0.061086</td>\n",
       "      <td>78</td>\n",
       "      <td>0</td>\n",
       "      <td>1</td>\n",
       "      <td>0.366508</td>\n",
       "      <td>0</td>\n",
       "      <td>5400</td>\n",
       "      <td>10</td>\n",
       "      <td>0</td>\n",
       "      <td>2</td>\n",
       "      <td>0</td>\n",
       "      <td>0</td>\n",
       "    </tr>\n",
       "    <tr>\n",
       "      <th>8</th>\n",
       "      <td>18</td>\n",
       "      <td>0</td>\n",
       "      <td>0.166284</td>\n",
       "      <td>53</td>\n",
       "      <td>0</td>\n",
       "      <td>0</td>\n",
       "      <td>0.188274</td>\n",
       "      <td>1</td>\n",
       "      <td>8800</td>\n",
       "      <td>7</td>\n",
       "      <td>0</td>\n",
       "      <td>0</td>\n",
       "      <td>0</td>\n",
       "      <td>0</td>\n",
       "    </tr>\n",
       "    <tr>\n",
       "      <th>9</th>\n",
       "      <td>20</td>\n",
       "      <td>0</td>\n",
       "      <td>0.602794</td>\n",
       "      <td>25</td>\n",
       "      <td>0</td>\n",
       "      <td>0</td>\n",
       "      <td>0.065868</td>\n",
       "      <td>1</td>\n",
       "      <td>333</td>\n",
       "      <td>2</td>\n",
       "      <td>0</td>\n",
       "      <td>0</td>\n",
       "      <td>0</td>\n",
       "      <td>0</td>\n",
       "    </tr>\n",
       "  </tbody>\n",
       "</table>\n",
       "</div>"
      ],
      "text/plain": [
       "   Sr_No  SeriousDlqin2yrs  util_new  age_new  num_30_59_dpd_new  \\\n",
       "0      3                 0  0.658180       38                  1   \n",
       "1      4                 0  0.233810       30                  0   \n",
       "2      5                 0  0.907239       49                  1   \n",
       "3      7                 0  0.305682       57                  0   \n",
       "4      8                 0  0.754464       39                  0   \n",
       "5     11                 0  0.644226       30                  0   \n",
       "6     15                 0  0.019657       76                  0   \n",
       "7     17                 0  0.061086       78                  0   \n",
       "8     18                 0  0.166284       53                  0   \n",
       "9     20                 0  0.602794       25                  0   \n",
       "\n",
       "   DebtRatio_new_ind  DebtRatio_new  MonthlyIncome_ind  MonthlyIncome_new  \\\n",
       "0                  0       0.085113                  1               3042   \n",
       "1                  0       0.036050                  1               3300   \n",
       "2                  0       0.024926                  1               5400   \n",
       "3                  1       0.366508                  0               5400   \n",
       "4                  0       0.209940                  1               3500   \n",
       "5                  0       0.309476                  1               2500   \n",
       "6                  1       0.366508                  1                  0   \n",
       "7                  1       0.366508                  0               5400   \n",
       "8                  0       0.188274                  1               8800   \n",
       "9                  0       0.065868                  1                333   \n",
       "\n",
       "   Open_Credit_lines_new  num_90_dpd_new  Real_estate_loans_new  \\\n",
       "0                      2               1                      0   \n",
       "1                      5               0                      0   \n",
       "2                      7               0                      1   \n",
       "3                      8               0                      3   \n",
       "4                      8               0                      0   \n",
       "5                      5               0                      0   \n",
       "6                      6               0                      1   \n",
       "7                     10               0                      2   \n",
       "8                      7               0                      0   \n",
       "9                      2               0                      0   \n",
       "\n",
       "   num_60_dpd_new  NumberOfDependents_new  \n",
       "0               0                       0  \n",
       "1               0                       0  \n",
       "2               0                       0  \n",
       "3               0                       0  \n",
       "4               0                       0  \n",
       "5               0                       0  \n",
       "6               0                       0  \n",
       "7               0                       0  \n",
       "8               0                       0  \n",
       "9               0                       0  "
      ]
     },
     "execution_count": 103,
     "metadata": {},
     "output_type": "execute_result"
    }
   ],
   "source": [
    "loans_Cleaned.head(10)"
   ]
  },
  {
   "cell_type": "code",
   "execution_count": 104,
   "id": "df01aca5-6de3-46ab-9dc3-4748121dbe18",
   "metadata": {},
   "outputs": [
    {
     "name": "stdout",
     "output_type": "stream",
     "text": [
      "<class 'pandas.core.frame.DataFrame'>\n",
      "RangeIndex: 150000 entries, 0 to 149999\n",
      "Data columns (total 14 columns):\n",
      " #   Column                  Non-Null Count   Dtype  \n",
      "---  ------                  --------------   -----  \n",
      " 0   Sr_No                   150000 non-null  int64  \n",
      " 1   SeriousDlqin2yrs        150000 non-null  int64  \n",
      " 2   util_new                150000 non-null  float64\n",
      " 3   age_new                 150000 non-null  int64  \n",
      " 4   num_30_59_dpd_new       150000 non-null  int64  \n",
      " 5   DebtRatio_new_ind       150000 non-null  int64  \n",
      " 6   DebtRatio_new           150000 non-null  float64\n",
      " 7   MonthlyIncome_ind       150000 non-null  int64  \n",
      " 8   MonthlyIncome_new       150000 non-null  int64  \n",
      " 9   Open_Credit_lines_new   150000 non-null  int64  \n",
      " 10  num_90_dpd_new          150000 non-null  int64  \n",
      " 11  Real_estate_loans_new   150000 non-null  int64  \n",
      " 12  num_60_dpd_new          150000 non-null  int64  \n",
      " 13  NumberOfDependents_new  150000 non-null  int64  \n",
      "dtypes: float64(2), int64(12)\n",
      "memory usage: 16.0 MB\n"
     ]
    }
   ],
   "source": [
    "loans_Cleaned.info()"
   ]
  },
  {
   "cell_type": "markdown",
   "id": "94982cf5-44c8-4b30-bba9-f61fb7326877",
   "metadata": {},
   "source": [
    "### LOGISTIC MODEL BUILDING "
   ]
  },
  {
   "cell_type": "markdown",
   "id": "f83d72de-ca1b-4df8-a279-160660d6b80d",
   "metadata": {},
   "source": [
    "**Target Variable - SeriousDlqin2yrs**\n",
    "\n",
    "**Features - Rest all variables**"
   ]
  },
  {
   "cell_type": "code",
   "execution_count": 105,
   "id": "524e0b11-1e2f-497f-9941-2dc5c6a78268",
   "metadata": {},
   "outputs": [],
   "source": [
    "#INSTALLING IMPORTANT PAKAGES FOR MODELLING\n",
    "\n",
    "import pandas as pd\n",
    "from sklearn.model_selection import train_test_split\n",
    "from sklearn.linear_model import LogisticRegression\n",
    "from sklearn.metrics import classification_report, confusion_matrix, accuracy_score"
   ]
  },
  {
   "cell_type": "code",
   "execution_count": 106,
   "id": "e2c3f9a5-a98a-49e2-ae2f-7adf58880ec0",
   "metadata": {},
   "outputs": [],
   "source": [
    "# TWO DF WITH AND WITHOUT TARGET VARIABLE\n",
    "X=loans_Cleaned.drop([\"SeriousDlqin2yrs\",\"Sr_No\"],axis=1)\n",
    "y=loans_Cleaned[\"SeriousDlqin2yrs\"]"
   ]
  },
  {
   "cell_type": "code",
   "execution_count": 107,
   "id": "969404c1-cac1-4a14-8dd3-504118f3086e",
   "metadata": {},
   "outputs": [
    {
     "data": {
      "text/plain": [
       "(150000, 12)"
      ]
     },
     "execution_count": 107,
     "metadata": {},
     "output_type": "execute_result"
    }
   ],
   "source": [
    "X.shape"
   ]
  },
  {
   "cell_type": "code",
   "execution_count": 108,
   "id": "9a4fd654-d15c-4881-9f26-1537e8c23d54",
   "metadata": {},
   "outputs": [
    {
     "data": {
      "text/plain": [
       "(150000,)"
      ]
     },
     "execution_count": 108,
     "metadata": {},
     "output_type": "execute_result"
    }
   ],
   "source": [
    "y.shape"
   ]
  },
  {
   "cell_type": "code",
   "execution_count": 109,
   "id": "96894203-d760-4be5-85f9-8afaedc3c486",
   "metadata": {},
   "outputs": [],
   "source": [
    "#SPILTING THE X AND Y DF'S IN TRAIN AND TEST DATA\n",
    "#Create X_train, X_test, Y_train, Y_test\n",
    "\n",
    "X_train, X_test, y_train, y_test = train_test_split(X, y, test_size=0.2, random_state=42)"
   ]
  },
  {
   "cell_type": "code",
   "execution_count": 110,
   "id": "22e78c45-bd0f-46e6-af37-276862af7c7a",
   "metadata": {},
   "outputs": [
    {
     "name": "stdout",
     "output_type": "stream",
     "text": [
      "(120000, 12)\n",
      "(30000, 12)\n",
      "(120000,)\n",
      "(30000,)\n"
     ]
    }
   ],
   "source": [
    "print(X_train.shape)\n",
    "print(X_test.shape)\n",
    "print(y_train.shape)\n",
    "print(y_test.shape)"
   ]
  },
  {
   "cell_type": "markdown",
   "id": "7819b474-737b-40e5-a7ea-4d388f11c872",
   "metadata": {},
   "source": [
    "**Building the logistic regression model**"
   ]
  },
  {
   "cell_type": "code",
   "execution_count": 111,
   "id": "8b8848f0-55a1-469f-8ede-a9b225871dc6",
   "metadata": {},
   "outputs": [
    {
     "name": "stderr",
     "output_type": "stream",
     "text": [
      "C:\\ProgramData\\anaconda3\\Lib\\site-packages\\sklearn\\linear_model\\_logistic.py:469: ConvergenceWarning: lbfgs failed to converge (status=1):\n",
      "STOP: TOTAL NO. of ITERATIONS REACHED LIMIT.\n",
      "\n",
      "Increase the number of iterations (max_iter) or scale the data as shown in:\n",
      "    https://scikit-learn.org/stable/modules/preprocessing.html\n",
      "Please also refer to the documentation for alternative solver options:\n",
      "    https://scikit-learn.org/stable/modules/linear_model.html#logistic-regression\n",
      "  n_iter_i = _check_optimize_result(\n"
     ]
    },
    {
     "data": {
      "text/html": [
       "<style>#sk-container-id-3 {\n",
       "  /* Definition of color scheme common for light and dark mode */\n",
       "  --sklearn-color-text: black;\n",
       "  --sklearn-color-line: gray;\n",
       "  /* Definition of color scheme for unfitted estimators */\n",
       "  --sklearn-color-unfitted-level-0: #fff5e6;\n",
       "  --sklearn-color-unfitted-level-1: #f6e4d2;\n",
       "  --sklearn-color-unfitted-level-2: #ffe0b3;\n",
       "  --sklearn-color-unfitted-level-3: chocolate;\n",
       "  /* Definition of color scheme for fitted estimators */\n",
       "  --sklearn-color-fitted-level-0: #f0f8ff;\n",
       "  --sklearn-color-fitted-level-1: #d4ebff;\n",
       "  --sklearn-color-fitted-level-2: #b3dbfd;\n",
       "  --sklearn-color-fitted-level-3: cornflowerblue;\n",
       "\n",
       "  /* Specific color for light theme */\n",
       "  --sklearn-color-text-on-default-background: var(--sg-text-color, var(--theme-code-foreground, var(--jp-content-font-color1, black)));\n",
       "  --sklearn-color-background: var(--sg-background-color, var(--theme-background, var(--jp-layout-color0, white)));\n",
       "  --sklearn-color-border-box: var(--sg-text-color, var(--theme-code-foreground, var(--jp-content-font-color1, black)));\n",
       "  --sklearn-color-icon: #696969;\n",
       "\n",
       "  @media (prefers-color-scheme: dark) {\n",
       "    /* Redefinition of color scheme for dark theme */\n",
       "    --sklearn-color-text-on-default-background: var(--sg-text-color, var(--theme-code-foreground, var(--jp-content-font-color1, white)));\n",
       "    --sklearn-color-background: var(--sg-background-color, var(--theme-background, var(--jp-layout-color0, #111)));\n",
       "    --sklearn-color-border-box: var(--sg-text-color, var(--theme-code-foreground, var(--jp-content-font-color1, white)));\n",
       "    --sklearn-color-icon: #878787;\n",
       "  }\n",
       "}\n",
       "\n",
       "#sk-container-id-3 {\n",
       "  color: var(--sklearn-color-text);\n",
       "}\n",
       "\n",
       "#sk-container-id-3 pre {\n",
       "  padding: 0;\n",
       "}\n",
       "\n",
       "#sk-container-id-3 input.sk-hidden--visually {\n",
       "  border: 0;\n",
       "  clip: rect(1px 1px 1px 1px);\n",
       "  clip: rect(1px, 1px, 1px, 1px);\n",
       "  height: 1px;\n",
       "  margin: -1px;\n",
       "  overflow: hidden;\n",
       "  padding: 0;\n",
       "  position: absolute;\n",
       "  width: 1px;\n",
       "}\n",
       "\n",
       "#sk-container-id-3 div.sk-dashed-wrapped {\n",
       "  border: 1px dashed var(--sklearn-color-line);\n",
       "  margin: 0 0.4em 0.5em 0.4em;\n",
       "  box-sizing: border-box;\n",
       "  padding-bottom: 0.4em;\n",
       "  background-color: var(--sklearn-color-background);\n",
       "}\n",
       "\n",
       "#sk-container-id-3 div.sk-container {\n",
       "  /* jupyter's `normalize.less` sets `[hidden] { display: none; }`\n",
       "     but bootstrap.min.css set `[hidden] { display: none !important; }`\n",
       "     so we also need the `!important` here to be able to override the\n",
       "     default hidden behavior on the sphinx rendered scikit-learn.org.\n",
       "     See: https://github.com/scikit-learn/scikit-learn/issues/21755 */\n",
       "  display: inline-block !important;\n",
       "  position: relative;\n",
       "}\n",
       "\n",
       "#sk-container-id-3 div.sk-text-repr-fallback {\n",
       "  display: none;\n",
       "}\n",
       "\n",
       "div.sk-parallel-item,\n",
       "div.sk-serial,\n",
       "div.sk-item {\n",
       "  /* draw centered vertical line to link estimators */\n",
       "  background-image: linear-gradient(var(--sklearn-color-text-on-default-background), var(--sklearn-color-text-on-default-background));\n",
       "  background-size: 2px 100%;\n",
       "  background-repeat: no-repeat;\n",
       "  background-position: center center;\n",
       "}\n",
       "\n",
       "/* Parallel-specific style estimator block */\n",
       "\n",
       "#sk-container-id-3 div.sk-parallel-item::after {\n",
       "  content: \"\";\n",
       "  width: 100%;\n",
       "  border-bottom: 2px solid var(--sklearn-color-text-on-default-background);\n",
       "  flex-grow: 1;\n",
       "}\n",
       "\n",
       "#sk-container-id-3 div.sk-parallel {\n",
       "  display: flex;\n",
       "  align-items: stretch;\n",
       "  justify-content: center;\n",
       "  background-color: var(--sklearn-color-background);\n",
       "  position: relative;\n",
       "}\n",
       "\n",
       "#sk-container-id-3 div.sk-parallel-item {\n",
       "  display: flex;\n",
       "  flex-direction: column;\n",
       "}\n",
       "\n",
       "#sk-container-id-3 div.sk-parallel-item:first-child::after {\n",
       "  align-self: flex-end;\n",
       "  width: 50%;\n",
       "}\n",
       "\n",
       "#sk-container-id-3 div.sk-parallel-item:last-child::after {\n",
       "  align-self: flex-start;\n",
       "  width: 50%;\n",
       "}\n",
       "\n",
       "#sk-container-id-3 div.sk-parallel-item:only-child::after {\n",
       "  width: 0;\n",
       "}\n",
       "\n",
       "/* Serial-specific style estimator block */\n",
       "\n",
       "#sk-container-id-3 div.sk-serial {\n",
       "  display: flex;\n",
       "  flex-direction: column;\n",
       "  align-items: center;\n",
       "  background-color: var(--sklearn-color-background);\n",
       "  padding-right: 1em;\n",
       "  padding-left: 1em;\n",
       "}\n",
       "\n",
       "\n",
       "/* Toggleable style: style used for estimator/Pipeline/ColumnTransformer box that is\n",
       "clickable and can be expanded/collapsed.\n",
       "- Pipeline and ColumnTransformer use this feature and define the default style\n",
       "- Estimators will overwrite some part of the style using the `sk-estimator` class\n",
       "*/\n",
       "\n",
       "/* Pipeline and ColumnTransformer style (default) */\n",
       "\n",
       "#sk-container-id-3 div.sk-toggleable {\n",
       "  /* Default theme specific background. It is overwritten whether we have a\n",
       "  specific estimator or a Pipeline/ColumnTransformer */\n",
       "  background-color: var(--sklearn-color-background);\n",
       "}\n",
       "\n",
       "/* Toggleable label */\n",
       "#sk-container-id-3 label.sk-toggleable__label {\n",
       "  cursor: pointer;\n",
       "  display: block;\n",
       "  width: 100%;\n",
       "  margin-bottom: 0;\n",
       "  padding: 0.5em;\n",
       "  box-sizing: border-box;\n",
       "  text-align: center;\n",
       "}\n",
       "\n",
       "#sk-container-id-3 label.sk-toggleable__label-arrow:before {\n",
       "  /* Arrow on the left of the label */\n",
       "  content: \"▸\";\n",
       "  float: left;\n",
       "  margin-right: 0.25em;\n",
       "  color: var(--sklearn-color-icon);\n",
       "}\n",
       "\n",
       "#sk-container-id-3 label.sk-toggleable__label-arrow:hover:before {\n",
       "  color: var(--sklearn-color-text);\n",
       "}\n",
       "\n",
       "/* Toggleable content - dropdown */\n",
       "\n",
       "#sk-container-id-3 div.sk-toggleable__content {\n",
       "  max-height: 0;\n",
       "  max-width: 0;\n",
       "  overflow: hidden;\n",
       "  text-align: left;\n",
       "  /* unfitted */\n",
       "  background-color: var(--sklearn-color-unfitted-level-0);\n",
       "}\n",
       "\n",
       "#sk-container-id-3 div.sk-toggleable__content.fitted {\n",
       "  /* fitted */\n",
       "  background-color: var(--sklearn-color-fitted-level-0);\n",
       "}\n",
       "\n",
       "#sk-container-id-3 div.sk-toggleable__content pre {\n",
       "  margin: 0.2em;\n",
       "  border-radius: 0.25em;\n",
       "  color: var(--sklearn-color-text);\n",
       "  /* unfitted */\n",
       "  background-color: var(--sklearn-color-unfitted-level-0);\n",
       "}\n",
       "\n",
       "#sk-container-id-3 div.sk-toggleable__content.fitted pre {\n",
       "  /* unfitted */\n",
       "  background-color: var(--sklearn-color-fitted-level-0);\n",
       "}\n",
       "\n",
       "#sk-container-id-3 input.sk-toggleable__control:checked~div.sk-toggleable__content {\n",
       "  /* Expand drop-down */\n",
       "  max-height: 200px;\n",
       "  max-width: 100%;\n",
       "  overflow: auto;\n",
       "}\n",
       "\n",
       "#sk-container-id-3 input.sk-toggleable__control:checked~label.sk-toggleable__label-arrow:before {\n",
       "  content: \"▾\";\n",
       "}\n",
       "\n",
       "/* Pipeline/ColumnTransformer-specific style */\n",
       "\n",
       "#sk-container-id-3 div.sk-label input.sk-toggleable__control:checked~label.sk-toggleable__label {\n",
       "  color: var(--sklearn-color-text);\n",
       "  background-color: var(--sklearn-color-unfitted-level-2);\n",
       "}\n",
       "\n",
       "#sk-container-id-3 div.sk-label.fitted input.sk-toggleable__control:checked~label.sk-toggleable__label {\n",
       "  background-color: var(--sklearn-color-fitted-level-2);\n",
       "}\n",
       "\n",
       "/* Estimator-specific style */\n",
       "\n",
       "/* Colorize estimator box */\n",
       "#sk-container-id-3 div.sk-estimator input.sk-toggleable__control:checked~label.sk-toggleable__label {\n",
       "  /* unfitted */\n",
       "  background-color: var(--sklearn-color-unfitted-level-2);\n",
       "}\n",
       "\n",
       "#sk-container-id-3 div.sk-estimator.fitted input.sk-toggleable__control:checked~label.sk-toggleable__label {\n",
       "  /* fitted */\n",
       "  background-color: var(--sklearn-color-fitted-level-2);\n",
       "}\n",
       "\n",
       "#sk-container-id-3 div.sk-label label.sk-toggleable__label,\n",
       "#sk-container-id-3 div.sk-label label {\n",
       "  /* The background is the default theme color */\n",
       "  color: var(--sklearn-color-text-on-default-background);\n",
       "}\n",
       "\n",
       "/* On hover, darken the color of the background */\n",
       "#sk-container-id-3 div.sk-label:hover label.sk-toggleable__label {\n",
       "  color: var(--sklearn-color-text);\n",
       "  background-color: var(--sklearn-color-unfitted-level-2);\n",
       "}\n",
       "\n",
       "/* Label box, darken color on hover, fitted */\n",
       "#sk-container-id-3 div.sk-label.fitted:hover label.sk-toggleable__label.fitted {\n",
       "  color: var(--sklearn-color-text);\n",
       "  background-color: var(--sklearn-color-fitted-level-2);\n",
       "}\n",
       "\n",
       "/* Estimator label */\n",
       "\n",
       "#sk-container-id-3 div.sk-label label {\n",
       "  font-family: monospace;\n",
       "  font-weight: bold;\n",
       "  display: inline-block;\n",
       "  line-height: 1.2em;\n",
       "}\n",
       "\n",
       "#sk-container-id-3 div.sk-label-container {\n",
       "  text-align: center;\n",
       "}\n",
       "\n",
       "/* Estimator-specific */\n",
       "#sk-container-id-3 div.sk-estimator {\n",
       "  font-family: monospace;\n",
       "  border: 1px dotted var(--sklearn-color-border-box);\n",
       "  border-radius: 0.25em;\n",
       "  box-sizing: border-box;\n",
       "  margin-bottom: 0.5em;\n",
       "  /* unfitted */\n",
       "  background-color: var(--sklearn-color-unfitted-level-0);\n",
       "}\n",
       "\n",
       "#sk-container-id-3 div.sk-estimator.fitted {\n",
       "  /* fitted */\n",
       "  background-color: var(--sklearn-color-fitted-level-0);\n",
       "}\n",
       "\n",
       "/* on hover */\n",
       "#sk-container-id-3 div.sk-estimator:hover {\n",
       "  /* unfitted */\n",
       "  background-color: var(--sklearn-color-unfitted-level-2);\n",
       "}\n",
       "\n",
       "#sk-container-id-3 div.sk-estimator.fitted:hover {\n",
       "  /* fitted */\n",
       "  background-color: var(--sklearn-color-fitted-level-2);\n",
       "}\n",
       "\n",
       "/* Specification for estimator info (e.g. \"i\" and \"?\") */\n",
       "\n",
       "/* Common style for \"i\" and \"?\" */\n",
       "\n",
       ".sk-estimator-doc-link,\n",
       "a:link.sk-estimator-doc-link,\n",
       "a:visited.sk-estimator-doc-link {\n",
       "  float: right;\n",
       "  font-size: smaller;\n",
       "  line-height: 1em;\n",
       "  font-family: monospace;\n",
       "  background-color: var(--sklearn-color-background);\n",
       "  border-radius: 1em;\n",
       "  height: 1em;\n",
       "  width: 1em;\n",
       "  text-decoration: none !important;\n",
       "  margin-left: 1ex;\n",
       "  /* unfitted */\n",
       "  border: var(--sklearn-color-unfitted-level-1) 1pt solid;\n",
       "  color: var(--sklearn-color-unfitted-level-1);\n",
       "}\n",
       "\n",
       ".sk-estimator-doc-link.fitted,\n",
       "a:link.sk-estimator-doc-link.fitted,\n",
       "a:visited.sk-estimator-doc-link.fitted {\n",
       "  /* fitted */\n",
       "  border: var(--sklearn-color-fitted-level-1) 1pt solid;\n",
       "  color: var(--sklearn-color-fitted-level-1);\n",
       "}\n",
       "\n",
       "/* On hover */\n",
       "div.sk-estimator:hover .sk-estimator-doc-link:hover,\n",
       ".sk-estimator-doc-link:hover,\n",
       "div.sk-label-container:hover .sk-estimator-doc-link:hover,\n",
       ".sk-estimator-doc-link:hover {\n",
       "  /* unfitted */\n",
       "  background-color: var(--sklearn-color-unfitted-level-3);\n",
       "  color: var(--sklearn-color-background);\n",
       "  text-decoration: none;\n",
       "}\n",
       "\n",
       "div.sk-estimator.fitted:hover .sk-estimator-doc-link.fitted:hover,\n",
       ".sk-estimator-doc-link.fitted:hover,\n",
       "div.sk-label-container:hover .sk-estimator-doc-link.fitted:hover,\n",
       ".sk-estimator-doc-link.fitted:hover {\n",
       "  /* fitted */\n",
       "  background-color: var(--sklearn-color-fitted-level-3);\n",
       "  color: var(--sklearn-color-background);\n",
       "  text-decoration: none;\n",
       "}\n",
       "\n",
       "/* Span, style for the box shown on hovering the info icon */\n",
       ".sk-estimator-doc-link span {\n",
       "  display: none;\n",
       "  z-index: 9999;\n",
       "  position: relative;\n",
       "  font-weight: normal;\n",
       "  right: .2ex;\n",
       "  padding: .5ex;\n",
       "  margin: .5ex;\n",
       "  width: min-content;\n",
       "  min-width: 20ex;\n",
       "  max-width: 50ex;\n",
       "  color: var(--sklearn-color-text);\n",
       "  box-shadow: 2pt 2pt 4pt #999;\n",
       "  /* unfitted */\n",
       "  background: var(--sklearn-color-unfitted-level-0);\n",
       "  border: .5pt solid var(--sklearn-color-unfitted-level-3);\n",
       "}\n",
       "\n",
       ".sk-estimator-doc-link.fitted span {\n",
       "  /* fitted */\n",
       "  background: var(--sklearn-color-fitted-level-0);\n",
       "  border: var(--sklearn-color-fitted-level-3);\n",
       "}\n",
       "\n",
       ".sk-estimator-doc-link:hover span {\n",
       "  display: block;\n",
       "}\n",
       "\n",
       "/* \"?\"-specific style due to the `<a>` HTML tag */\n",
       "\n",
       "#sk-container-id-3 a.estimator_doc_link {\n",
       "  float: right;\n",
       "  font-size: 1rem;\n",
       "  line-height: 1em;\n",
       "  font-family: monospace;\n",
       "  background-color: var(--sklearn-color-background);\n",
       "  border-radius: 1rem;\n",
       "  height: 1rem;\n",
       "  width: 1rem;\n",
       "  text-decoration: none;\n",
       "  /* unfitted */\n",
       "  color: var(--sklearn-color-unfitted-level-1);\n",
       "  border: var(--sklearn-color-unfitted-level-1) 1pt solid;\n",
       "}\n",
       "\n",
       "#sk-container-id-3 a.estimator_doc_link.fitted {\n",
       "  /* fitted */\n",
       "  border: var(--sklearn-color-fitted-level-1) 1pt solid;\n",
       "  color: var(--sklearn-color-fitted-level-1);\n",
       "}\n",
       "\n",
       "/* On hover */\n",
       "#sk-container-id-3 a.estimator_doc_link:hover {\n",
       "  /* unfitted */\n",
       "  background-color: var(--sklearn-color-unfitted-level-3);\n",
       "  color: var(--sklearn-color-background);\n",
       "  text-decoration: none;\n",
       "}\n",
       "\n",
       "#sk-container-id-3 a.estimator_doc_link.fitted:hover {\n",
       "  /* fitted */\n",
       "  background-color: var(--sklearn-color-fitted-level-3);\n",
       "}\n",
       "</style><div id=\"sk-container-id-3\" class=\"sk-top-container\"><div class=\"sk-text-repr-fallback\"><pre>LogisticRegression()</pre><b>In a Jupyter environment, please rerun this cell to show the HTML representation or trust the notebook. <br />On GitHub, the HTML representation is unable to render, please try loading this page with nbviewer.org.</b></div><div class=\"sk-container\" hidden><div class=\"sk-item\"><div class=\"sk-estimator fitted sk-toggleable\"><input class=\"sk-toggleable__control sk-hidden--visually\" id=\"sk-estimator-id-3\" type=\"checkbox\" checked><label for=\"sk-estimator-id-3\" class=\"sk-toggleable__label fitted sk-toggleable__label-arrow fitted\">&nbsp;&nbsp;LogisticRegression<a class=\"sk-estimator-doc-link fitted\" rel=\"noreferrer\" target=\"_blank\" href=\"https://scikit-learn.org/1.5/modules/generated/sklearn.linear_model.LogisticRegression.html\">?<span>Documentation for LogisticRegression</span></a><span class=\"sk-estimator-doc-link fitted\">i<span>Fitted</span></span></label><div class=\"sk-toggleable__content fitted\"><pre>LogisticRegression()</pre></div> </div></div></div></div>"
      ],
      "text/plain": [
       "LogisticRegression()"
      ]
     },
     "execution_count": 111,
     "metadata": {},
     "output_type": "execute_result"
    }
   ],
   "source": [
    "logreg=LogisticRegression()\n",
    "logreg.fit(X_train,y_train)"
   ]
  },
  {
   "cell_type": "code",
   "execution_count": 112,
   "id": "dd8e0c42-edf7-4855-b058-b15cf1f4f964",
   "metadata": {},
   "outputs": [
    {
     "data": {
      "text/plain": [
       "array([[ 4.01691025e-01, -5.13137174e-02,  5.02371113e-01,\n",
       "        -4.24025514e-02,  3.17928485e-02, -2.49330639e-01,\n",
       "        -7.42125648e-05,  2.02375223e-02,  7.64578286e-01,\n",
       "         7.14093255e-02,  4.83605068e-01, -2.55661872e-02]])"
      ]
     },
     "execution_count": 112,
     "metadata": {},
     "output_type": "execute_result"
    }
   ],
   "source": [
    "logreg.coef_"
   ]
  },
  {
   "cell_type": "markdown",
   "id": "4a9b925b-2c9f-406a-b4b6-fea6fe09fa3c",
   "metadata": {},
   "source": [
    "### MODEL VALIDATION"
   ]
  },
  {
   "cell_type": "code",
   "execution_count": 113,
   "id": "4cd4b269-0595-488f-aec2-86eff0ad8a80",
   "metadata": {},
   "outputs": [
    {
     "name": "stdout",
     "output_type": "stream",
     "text": [
      "[[111131    799]\n",
      " [  6868   1202]]\n",
      "[[27842   202]\n",
      " [ 1673   283]]\n",
      "0.9361083333333333\n",
      "0.9375\n"
     ]
    }
   ],
   "source": [
    "#Confusion matrix and accuracy on train data and test data\n",
    "\n",
    "y_train_pred=logreg.predict(X_train)\n",
    "y_test_pred=logreg.predict(X_test)\n",
    "\n",
    "#Confusion matrix on train data\n",
    "\n",
    "cm_train=confusion_matrix(y_train,y_train_pred)\n",
    "print(cm_train)\n",
    "\n",
    "#Confusion matrix on test data\n",
    "\n",
    "cm_test=confusion_matrix(y_test,y_test_pred)\n",
    "print(cm_test)\n",
    "\n",
    "#Accuracy on Train and test\n",
    "\n",
    "print(accuracy_score(y_train,y_train_pred))\n",
    "print(accuracy_score(y_test,y_test_pred))"
   ]
  },
  {
   "cell_type": "markdown",
   "id": "dc2e7bd7-5662-49f2-bcdb-1fc3974a54f1",
   "metadata": {},
   "source": [
    "### CHECKING FOR MULTICOLLINEARITY"
   ]
  },
  {
   "cell_type": "code",
   "execution_count": 114,
   "id": "5dd8caae-a277-47f3-9813-0f29d1099567",
   "metadata": {},
   "outputs": [],
   "source": [
    "#Vif Function\n",
    "import statsmodels.formula.api as sm\n",
    "\n",
    "def vif_cal(input_data, dependent_col):\n",
    "    x_vars=input_data.drop([dependent_col], axis=1)\n",
    "    xvar_names=x_vars.columns\n",
    "    for i in range(0,xvar_names.shape[0]):\n",
    "        y=x_vars[xvar_names[i]]\n",
    "        x=x_vars[xvar_names.drop(xvar_names[i])]\n",
    "        rsq=sm.ols(formula=\"y~x\", data=x_vars).fit().rsquared\n",
    "        vif=round(1/(1-rsq),2)\n",
    "        print (xvar_names[i], \" VIF = \" , vif)"
   ]
  },
  {
   "cell_type": "code",
   "execution_count": 115,
   "id": "7675be6c-8b04-4c3c-8d5f-087d5910d44b",
   "metadata": {},
   "outputs": [
    {
     "name": "stdout",
     "output_type": "stream",
     "text": [
      "Sr_No  VIF =  1.0\n",
      "util_new  VIF =  1.19\n",
      "age_new  VIF =  1.16\n",
      "num_30_59_dpd_new  VIF =  1.25\n",
      "DebtRatio_new_ind  VIF =  3.56\n",
      "DebtRatio_new  VIF =  1.51\n",
      "MonthlyIncome_ind  VIF =  3.56\n",
      "MonthlyIncome_new  VIF =  1.39\n",
      "Open_Credit_lines_new  VIF =  1.39\n",
      "num_90_dpd_new  VIF =  1.22\n",
      "Real_estate_loans_new  VIF =  1.68\n",
      "num_60_dpd_new  VIF =  1.28\n",
      "NumberOfDependents_new  VIF =  1.12\n"
     ]
    }
   ],
   "source": [
    "vif_cal(loans_Cleaned,'SeriousDlqin2yrs')"
   ]
  },
  {
   "cell_type": "code",
   "execution_count": 116,
   "id": "07f035c9-16ef-4133-9213-b38e0cb89259",
   "metadata": {},
   "outputs": [
    {
     "name": "stdout",
     "output_type": "stream",
     "text": [
      "                            OLS Regression Results                            \n",
      "==============================================================================\n",
      "Dep. Variable:       SeriousDlqin2yrs   R-squared:                       0.180\n",
      "Model:                            OLS   Adj. R-squared:                  0.180\n",
      "Method:                 Least Squares   F-statistic:                     2191.\n",
      "Date:                Tue, 13 May 2025   Prob (F-statistic):               0.00\n",
      "Time:                        11:44:00   Log-Likelihood:                 7751.5\n",
      "No. Observations:              120000   AIC:                        -1.548e+04\n",
      "Df Residuals:                  119987   BIC:                        -1.535e+04\n",
      "Df Model:                          12                                         \n",
      "Covariance Type:            nonrobust                                         \n",
      "==========================================================================================\n",
      "                             coef    std err          t      P>|t|      [0.025      0.975]\n",
      "------------------------------------------------------------------------------------------\n",
      "const                      0.0139      0.005      3.022      0.003       0.005       0.023\n",
      "util_new                   0.0847      0.002     39.642      0.000       0.080       0.089\n",
      "age_new                   -0.0006   4.84e-05    -13.313      0.000      -0.001      -0.001\n",
      "num_30_59_dpd_new          0.0509      0.001     51.287      0.000       0.049       0.053\n",
      "DebtRatio_new_ind          0.0231      0.003      7.952      0.000       0.017       0.029\n",
      "DebtRatio_new              0.0341      0.004      8.467      0.000       0.026       0.042\n",
      "MonthlyIncome_ind          0.0239      0.003      7.715      0.000       0.018       0.030\n",
      "MonthlyIncome_new      -8.273e-07   2.34e-07     -3.537      0.000   -1.29e-06   -3.69e-07\n",
      "Open_Credit_lines_new      0.0005      0.000      3.045      0.002       0.000       0.001\n",
      "num_90_dpd_new             0.1095      0.001     74.826      0.000       0.107       0.112\n",
      "Real_estate_loans_new     -0.0055      0.001     -6.037      0.000      -0.007      -0.004\n",
      "num_60_dpd_new             0.0856      0.002     40.738      0.000       0.082       0.090\n",
      "NumberOfDependents_new     0.0031      0.001      4.906      0.000       0.002       0.004\n",
      "==============================================================================\n",
      "Omnibus:                    71212.038   Durbin-Watson:                   2.003\n",
      "Prob(Omnibus):                  0.000   Jarque-Bera (JB):           631490.143\n",
      "Skew:                           2.811   Prob(JB):                         0.00\n",
      "Kurtosis:                      12.730   Cond. No.                     5.99e+04\n",
      "==============================================================================\n",
      "\n",
      "Notes:\n",
      "[1] Standard Errors assume that the covariance matrix of the errors is correctly specified.\n",
      "[2] The condition number is large, 5.99e+04. This might indicate that there are\n",
      "strong multicollinearity or other numerical problems.\n"
     ]
    }
   ],
   "source": [
    "#P_value of all the features\n",
    "import statsmodels.api as sm\n",
    "X_train_lm=sm.add_constant(X_train)\n",
    "logistic_reg=sm.OLS(y_train,X_train_lm).fit()\n",
    "print(logistic_reg.summary())"
   ]
  },
  {
   "cell_type": "markdown",
   "id": "45dc22d9-bf01-40d3-9def-3f724599cd88",
   "metadata": {},
   "source": [
    "### INFORMATION VALUE CALCULATION"
   ]
  },
  {
   "cell_type": "code",
   "execution_count": 117,
   "id": "e5a6431a-e0a9-4b5a-81ad-46c128588636",
   "metadata": {},
   "outputs": [],
   "source": [
    "def calculate_iv(df, target, bins=10, show_woe=False):\n",
    "    \"\"\"\n",
    "    Calculates Information Value (IV) for each independent variable.\n",
    "\n",
    "    Parameters:\n",
    "    df (pd.DataFrame): The input DataFrame.\n",
    "    target (str): The name of the binary target column.\n",
    "    bins (int): Number of bins to use for numeric variables.\n",
    "    show_woe (bool): Whether to print WOE table for each variable.\n",
    "\n",
    "    Returns:\n",
    "    pd.DataFrame: IV values for each variable.\n",
    "    \"\"\"\n",
    "    iv_list = []\n",
    "\n",
    "    for col in df.columns:\n",
    "        if col == target:\n",
    "            continue\n",
    "\n",
    "        # Create binned variable if numeric\n",
    "        if pd.api.types.is_numeric_dtype(df[col]):\n",
    "            df[col + '_bin'] = pd.qcut(df[col].rank(method='first'), bins, duplicates='drop')\n",
    "            var = col + '_bin'\n",
    "        else:\n",
    "            var = col\n",
    "\n",
    "        # WOE Table\n",
    "        woe_df = df.groupby(var).agg(\n",
    "            good = (target, lambda x: (x == 0).sum()),\n",
    "            bad = (target, lambda x: (x == 1).sum())\n",
    "        )\n",
    "        woe_df['Distr_Good'] = woe_df['good'] / woe_df['good'].sum()\n",
    "        woe_df['Distr_Bad'] = woe_df['bad'] / woe_df['bad'].sum()\n",
    "        woe_df['WOE'] = np.log((woe_df['Distr_Good'] + 0.0001) / (woe_df['Distr_Bad'] + 0.0001))\n",
    "        woe_df['IV'] = (woe_df['Distr_Good'] - woe_df['Distr_Bad']) * woe_df['WOE']\n",
    "\n",
    "        iv = woe_df['IV'].sum()\n",
    "        iv_list.append((col, iv))\n",
    "\n",
    "        if show_woe:\n",
    "            print(f\"\\nWOE Table for {col}\")\n",
    "            print(woe_df)\n",
    "\n",
    "        # Drop temp bin column\n",
    "        if col + '_bin' in df.columns:\n",
    "            df.drop(columns=[col + '_bin'], inplace=True)\n",
    "\n",
    "    # Return IV table\n",
    "    iv_df = pd.DataFrame(iv_list, columns=['Variable', 'InformationValue'])\n",
    "    iv_df = iv_df.sort_values(by='InformationValue', ascending=False).reset_index(drop=True)\n",
    "    return iv_df"
   ]
  },
  {
   "cell_type": "code",
   "execution_count": 118,
   "id": "5d6e2c8b-5fd8-4620-9b2a-2e5c3bf17900",
   "metadata": {},
   "outputs": [
    {
     "name": "stderr",
     "output_type": "stream",
     "text": [
      "C:\\Users\\khiro\\AppData\\Local\\Temp\\ipykernel_17084\\2224729635.py:28: FutureWarning: The default of observed=False is deprecated and will be changed to True in a future version of pandas. Pass observed=False to retain current behavior or observed=True to adopt the future default and silence this warning.\n",
      "  woe_df = df.groupby(var).agg(\n",
      "C:\\Users\\khiro\\AppData\\Local\\Temp\\ipykernel_17084\\2224729635.py:28: FutureWarning: The default of observed=False is deprecated and will be changed to True in a future version of pandas. Pass observed=False to retain current behavior or observed=True to adopt the future default and silence this warning.\n",
      "  woe_df = df.groupby(var).agg(\n",
      "C:\\Users\\khiro\\AppData\\Local\\Temp\\ipykernel_17084\\2224729635.py:28: FutureWarning: The default of observed=False is deprecated and will be changed to True in a future version of pandas. Pass observed=False to retain current behavior or observed=True to adopt the future default and silence this warning.\n",
      "  woe_df = df.groupby(var).agg(\n",
      "C:\\Users\\khiro\\AppData\\Local\\Temp\\ipykernel_17084\\2224729635.py:28: FutureWarning: The default of observed=False is deprecated and will be changed to True in a future version of pandas. Pass observed=False to retain current behavior or observed=True to adopt the future default and silence this warning.\n",
      "  woe_df = df.groupby(var).agg(\n",
      "C:\\Users\\khiro\\AppData\\Local\\Temp\\ipykernel_17084\\2224729635.py:28: FutureWarning: The default of observed=False is deprecated and will be changed to True in a future version of pandas. Pass observed=False to retain current behavior or observed=True to adopt the future default and silence this warning.\n",
      "  woe_df = df.groupby(var).agg(\n",
      "C:\\Users\\khiro\\AppData\\Local\\Temp\\ipykernel_17084\\2224729635.py:28: FutureWarning: The default of observed=False is deprecated and will be changed to True in a future version of pandas. Pass observed=False to retain current behavior or observed=True to adopt the future default and silence this warning.\n",
      "  woe_df = df.groupby(var).agg(\n",
      "C:\\Users\\khiro\\AppData\\Local\\Temp\\ipykernel_17084\\2224729635.py:28: FutureWarning: The default of observed=False is deprecated and will be changed to True in a future version of pandas. Pass observed=False to retain current behavior or observed=True to adopt the future default and silence this warning.\n",
      "  woe_df = df.groupby(var).agg(\n",
      "C:\\Users\\khiro\\AppData\\Local\\Temp\\ipykernel_17084\\2224729635.py:28: FutureWarning: The default of observed=False is deprecated and will be changed to True in a future version of pandas. Pass observed=False to retain current behavior or observed=True to adopt the future default and silence this warning.\n",
      "  woe_df = df.groupby(var).agg(\n"
     ]
    },
    {
     "name": "stdout",
     "output_type": "stream",
     "text": [
      "                  Variable  InformationValue\n",
      "0                 util_new          0.925006\n",
      "1        num_30_59_dpd_new          0.664903\n",
      "2           num_90_dpd_new          0.603985\n",
      "3           num_60_dpd_new          0.394331\n",
      "4                  age_new          0.251888\n",
      "5        MonthlyIncome_new          0.073647\n",
      "6    Open_Credit_lines_new          0.073481\n",
      "7    Real_estate_loans_new          0.053020\n",
      "8            DebtRatio_new          0.046178\n",
      "9        MonthlyIncome_ind          0.034326\n",
      "10  NumberOfDependents_new          0.030720\n",
      "11       DebtRatio_new_ind          0.022763\n",
      "12                   Sr_No          0.001574\n"
     ]
    },
    {
     "name": "stderr",
     "output_type": "stream",
     "text": [
      "C:\\Users\\khiro\\AppData\\Local\\Temp\\ipykernel_17084\\2224729635.py:28: FutureWarning: The default of observed=False is deprecated and will be changed to True in a future version of pandas. Pass observed=False to retain current behavior or observed=True to adopt the future default and silence this warning.\n",
      "  woe_df = df.groupby(var).agg(\n",
      "C:\\Users\\khiro\\AppData\\Local\\Temp\\ipykernel_17084\\2224729635.py:28: FutureWarning: The default of observed=False is deprecated and will be changed to True in a future version of pandas. Pass observed=False to retain current behavior or observed=True to adopt the future default and silence this warning.\n",
      "  woe_df = df.groupby(var).agg(\n",
      "C:\\Users\\khiro\\AppData\\Local\\Temp\\ipykernel_17084\\2224729635.py:28: FutureWarning: The default of observed=False is deprecated and will be changed to True in a future version of pandas. Pass observed=False to retain current behavior or observed=True to adopt the future default and silence this warning.\n",
      "  woe_df = df.groupby(var).agg(\n",
      "C:\\Users\\khiro\\AppData\\Local\\Temp\\ipykernel_17084\\2224729635.py:28: FutureWarning: The default of observed=False is deprecated and will be changed to True in a future version of pandas. Pass observed=False to retain current behavior or observed=True to adopt the future default and silence this warning.\n",
      "  woe_df = df.groupby(var).agg(\n",
      "C:\\Users\\khiro\\AppData\\Local\\Temp\\ipykernel_17084\\2224729635.py:28: FutureWarning: The default of observed=False is deprecated and will be changed to True in a future version of pandas. Pass observed=False to retain current behavior or observed=True to adopt the future default and silence this warning.\n",
      "  woe_df = df.groupby(var).agg(\n"
     ]
    }
   ],
   "source": [
    "iv_result = calculate_iv(loans_Cleaned, target='SeriousDlqin2yrs')\n",
    "print(iv_result)"
   ]
  },
  {
   "cell_type": "markdown",
   "id": "a7025289-0564-4bec-a28a-7c8cde00cb7d",
   "metadata": {},
   "source": [
    "### Model Validation - Deep Dive"
   ]
  },
  {
   "cell_type": "code",
   "execution_count": 119,
   "id": "9171bf19-8550-4fa0-b943-171d39d22297",
   "metadata": {},
   "outputs": [
    {
     "name": "stdout",
     "output_type": "stream",
     "text": [
      "[[111131    799]\n",
      " [  6868   1202]]\n",
      "[[27842   202]\n",
      " [ 1673   283]]\n",
      "0.9361083333333333\n",
      "0.9375\n"
     ]
    }
   ],
   "source": [
    "#Confusion matrix and accuracy on train data and test data\n",
    "y_train_pred=logreg.predict(X_train)\n",
    "y_test_pred=logreg.predict(X_test)\n",
    "\n",
    "#Confusion matrix on train data\n",
    "cm_train=confusion_matrix(y_train,y_train_pred)\n",
    "print(cm_train)\n",
    "\n",
    "#Confusion matrix on test data\n",
    "cm_test=confusion_matrix(y_test,y_test_pred)\n",
    "print(cm_test)\n",
    "\n",
    "#Accuracy on Train and test\n",
    "print(accuracy_score(y_train,y_train_pred))\n",
    "print(accuracy_score(y_test,y_test_pred))"
   ]
  },
  {
   "cell_type": "code",
   "execution_count": 120,
   "id": "d6a35d38-13e6-475f-810e-7c7e4669dae8",
   "metadata": {},
   "outputs": [
    {
     "data": {
      "text/plain": [
       "SeriousDlqin2yrs\n",
       "0    139974\n",
       "1     10026\n",
       "Name: count, dtype: int64"
      ]
     },
     "execution_count": 120,
     "metadata": {},
     "output_type": "execute_result"
    }
   ],
   "source": [
    "#Target Variable\n",
    "loans_Cleaned[\"SeriousDlqin2yrs\"].value_counts()"
   ]
  },
  {
   "cell_type": "code",
   "execution_count": 121,
   "id": "9fd1985f-9a19-456c-997d-39a35841c73c",
   "metadata": {},
   "outputs": [
    {
     "data": {
      "text/plain": [
       "SeriousDlqin2yrs\n",
       "0    0.93316\n",
       "1    0.06684\n",
       "Name: count, dtype: float64"
      ]
     },
     "execution_count": 121,
     "metadata": {},
     "output_type": "execute_result"
    }
   ],
   "source": [
    "loans_Cleaned[\"SeriousDlqin2yrs\"].value_counts()/len(loans_Cleaned)"
   ]
  },
  {
   "cell_type": "markdown",
   "id": "554ee5fa-82f0-4c2e-88b0-de3c080b154d",
   "metadata": {},
   "source": [
    "### Classwise Accuracy"
   ]
  },
  {
   "cell_type": "code",
   "execution_count": 122,
   "id": "02e982ba-ebdc-46cd-bda4-d66778c09d02",
   "metadata": {
    "scrolled": true
   },
   "outputs": [
    {
     "name": "stdout",
     "output_type": "stream",
     "text": [
      "0.9928616099347807\n"
     ]
    }
   ],
   "source": [
    "#Clss-0 : Good Customers - Accuracy\n",
    "\n",
    "class_0_accuracy=cm_train[0,0]/(cm_train[0,0]+cm_train[0,1])\n",
    "print(class_0_accuracy)"
   ]
  },
  {
   "cell_type": "code",
   "execution_count": 123,
   "id": "d264ffe2-e012-4955-ab14-bc7ee9182546",
   "metadata": {},
   "outputs": [
    {
     "name": "stdout",
     "output_type": "stream",
     "text": [
      "0.14894671623296157\n"
     ]
    }
   ],
   "source": [
    "#Class-1 : Bad Customers - Accuracy\n",
    "\n",
    "class_1_accuracy=cm_train[1,1]/(cm_train[1,0]+cm_train[1,1])\n",
    "print(class_1_accuracy)"
   ]
  },
  {
   "cell_type": "markdown",
   "id": "fbd9a096-9c8c-4727-a7bb-fdd1e5a8413b",
   "metadata": {},
   "source": [
    "### AUC for the model -Logreg"
   ]
  },
  {
   "cell_type": "code",
   "execution_count": 124,
   "id": "c4737fec-bd4a-4101-a46e-ace210271ee5",
   "metadata": {},
   "outputs": [],
   "source": [
    "from sklearn.metrics import roc_curve, roc_auc_score, auc\n",
    "import matplotlib.pyplot as plt"
   ]
  },
  {
   "cell_type": "code",
   "execution_count": 125,
   "id": "92ff7c34-acd0-46f4-addf-28f7eaee1e33",
   "metadata": {},
   "outputs": [],
   "source": [
    "#Pred_prob\n",
    "y_train_prob=logreg.predict_proba(X_train)[:,1]\n",
    "y_test_prob=logreg.predict_proba(X_test)[:,1]\n"
   ]
  },
  {
   "cell_type": "code",
   "execution_count": 126,
   "id": "a6bb149d-19c8-4035-af2c-48aba0c051fe",
   "metadata": {},
   "outputs": [
    {
     "name": "stdout",
     "output_type": "stream",
     "text": [
      "0.8026564802904453\n"
     ]
    }
   ],
   "source": [
    "auc=roc_auc_score(y_train,y_train_prob)\n",
    "print(auc)"
   ]
  },
  {
   "cell_type": "code",
   "execution_count": 127,
   "id": "b0602407-4bff-4304-8d14-429f3a5dbca4",
   "metadata": {},
   "outputs": [
    {
     "name": "stdout",
     "output_type": "stream",
     "text": [
      "0.8036278132464351\n"
     ]
    }
   ],
   "source": [
    "#AUC on the test data - 80%\n",
    "auc=roc_auc_score(y_test,y_test_prob)\n",
    "print(auc)"
   ]
  },
  {
   "cell_type": "code",
   "execution_count": 128,
   "id": "d3c84fb1-bb8b-4d86-a252-036e692cf484",
   "metadata": {},
   "outputs": [],
   "source": [
    "fpr, tpr, thresholds = roc_curve(y_test, y_test_prob)"
   ]
  },
  {
   "cell_type": "code",
   "execution_count": 129,
   "id": "0a2c4cad-62ee-4b95-9f36-321f536ee470",
   "metadata": {},
   "outputs": [
    {
     "data": {
      "image/png": "[encoded data removed]",
      "text/plain": [
       "<Figure size 600x500 with 1 Axes>"
      ]
     },
     "metadata": {},
     "output_type": "display_data"
    }
   ],
   "source": [
    "plt.figure(figsize=(6, 5))\n",
    "plt.plot(fpr, tpr, color='blue', label=f\"Logistic Regression (AUC = {auc:.2f})\")\n",
    "plt.plot([0, 1], [0, 1], linestyle='--', color='gray')  # Baseline\n",
    "plt.xlabel(\"False Positive Rate\")\n",
    "plt.ylabel(\"True Positive Rate\")\n",
    "plt.title(\"ROC Curve - Logistic Regression\")\n",
    "plt.legend(loc=\"lower right\")\n",
    "plt.grid(True)\n",
    "plt.tight_layout()\n",
    "plt.show()"
   ]
  },
  {
   "cell_type": "markdown",
   "id": "6f4ab92d-44ea-410a-b244-ac66af26b712",
   "metadata": {},
   "source": [
    "### Handling Class Imbalance"
   ]
  },
  {
   "cell_type": "markdown",
   "id": "60a233d2-2456-4ef2-9a29-c897f20a11d1",
   "metadata": {},
   "source": [
    "**Over Sampling and Under Sampling**\n",
    "**SMOTE - Sythetic Minorty Oversampling TEchnique**"
   ]
  },
  {
   "cell_type": "code",
   "execution_count": 130,
   "id": "a75bede5-a7a2-4114-bcd9-29bb64e20af3",
   "metadata": {},
   "outputs": [],
   "source": [
    "from imblearn.over_sampling import SMOTE"
   ]
  },
  {
   "cell_type": "code",
   "execution_count": 131,
   "id": "6b794572-3ce9-476b-8c9d-fceacff00b71",
   "metadata": {},
   "outputs": [],
   "source": [
    "smote=SMOTE()\n",
    "X_train_smote, y_train_smote=smote.fit_resample(X_train,y_train)"
   ]
  },
  {
   "cell_type": "code",
   "execution_count": 132,
   "id": "b38eb42a-687c-480d-bc73-f8e6e9d1b342",
   "metadata": {},
   "outputs": [
    {
     "name": "stderr",
     "output_type": "stream",
     "text": [
      "C:\\ProgramData\\anaconda3\\Lib\\site-packages\\sklearn\\linear_model\\_logistic.py:469: ConvergenceWarning: lbfgs failed to converge (status=1):\n",
      "STOP: TOTAL NO. of ITERATIONS REACHED LIMIT.\n",
      "\n",
      "Increase the number of iterations (max_iter) or scale the data as shown in:\n",
      "    https://scikit-learn.org/stable/modules/preprocessing.html\n",
      "Please also refer to the documentation for alternative solver options:\n",
      "    https://scikit-learn.org/stable/modules/linear_model.html#logistic-regression\n",
      "  n_iter_i = _check_optimize_result(\n"
     ]
    },
    {
     "data": {
      "text/html": [
       "<style>#sk-container-id-4 {\n",
       "  /* Definition of color scheme common for light and dark mode */\n",
       "  --sklearn-color-text: black;\n",
       "  --sklearn-color-line: gray;\n",
       "  /* Definition of color scheme for unfitted estimators */\n",
       "  --sklearn-color-unfitted-level-0: #fff5e6;\n",
       "  --sklearn-color-unfitted-level-1: #f6e4d2;\n",
       "  --sklearn-color-unfitted-level-2: #ffe0b3;\n",
       "  --sklearn-color-unfitted-level-3: chocolate;\n",
       "  /* Definition of color scheme for fitted estimators */\n",
       "  --sklearn-color-fitted-level-0: #f0f8ff;\n",
       "  --sklearn-color-fitted-level-1: #d4ebff;\n",
       "  --sklearn-color-fitted-level-2: #b3dbfd;\n",
       "  --sklearn-color-fitted-level-3: cornflowerblue;\n",
       "\n",
       "  /* Specific color for light theme */\n",
       "  --sklearn-color-text-on-default-background: var(--sg-text-color, var(--theme-code-foreground, var(--jp-content-font-color1, black)));\n",
       "  --sklearn-color-background: var(--sg-background-color, var(--theme-background, var(--jp-layout-color0, white)));\n",
       "  --sklearn-color-border-box: var(--sg-text-color, var(--theme-code-foreground, var(--jp-content-font-color1, black)));\n",
       "  --sklearn-color-icon: #696969;\n",
       "\n",
       "  @media (prefers-color-scheme: dark) {\n",
       "    /* Redefinition of color scheme for dark theme */\n",
       "    --sklearn-color-text-on-default-background: var(--sg-text-color, var(--theme-code-foreground, var(--jp-content-font-color1, white)));\n",
       "    --sklearn-color-background: var(--sg-background-color, var(--theme-background, var(--jp-layout-color0, #111)));\n",
       "    --sklearn-color-border-box: var(--sg-text-color, var(--theme-code-foreground, var(--jp-content-font-color1, white)));\n",
       "    --sklearn-color-icon: #878787;\n",
       "  }\n",
       "}\n",
       "\n",
       "#sk-container-id-4 {\n",
       "  color: var(--sklearn-color-text);\n",
       "}\n",
       "\n",
       "#sk-container-id-4 pre {\n",
       "  padding: 0;\n",
       "}\n",
       "\n",
       "#sk-container-id-4 input.sk-hidden--visually {\n",
       "  border: 0;\n",
       "  clip: rect(1px 1px 1px 1px);\n",
       "  clip: rect(1px, 1px, 1px, 1px);\n",
       "  height: 1px;\n",
       "  margin: -1px;\n",
       "  overflow: hidden;\n",
       "  padding: 0;\n",
       "  position: absolute;\n",
       "  width: 1px;\n",
       "}\n",
       "\n",
       "#sk-container-id-4 div.sk-dashed-wrapped {\n",
       "  border: 1px dashed var(--sklearn-color-line);\n",
       "  margin: 0 0.4em 0.5em 0.4em;\n",
       "  box-sizing: border-box;\n",
       "  padding-bottom: 0.4em;\n",
       "  background-color: var(--sklearn-color-background);\n",
       "}\n",
       "\n",
       "#sk-container-id-4 div.sk-container {\n",
       "  /* jupyter's `normalize.less` sets `[hidden] { display: none; }`\n",
       "     but bootstrap.min.css set `[hidden] { display: none !important; }`\n",
       "     so we also need the `!important` here to be able to override the\n",
       "     default hidden behavior on the sphinx rendered scikit-learn.org.\n",
       "     See: https://github.com/scikit-learn/scikit-learn/issues/21755 */\n",
       "  display: inline-block !important;\n",
       "  position: relative;\n",
       "}\n",
       "\n",
       "#sk-container-id-4 div.sk-text-repr-fallback {\n",
       "  display: none;\n",
       "}\n",
       "\n",
       "div.sk-parallel-item,\n",
       "div.sk-serial,\n",
       "div.sk-item {\n",
       "  /* draw centered vertical line to link estimators */\n",
       "  background-image: linear-gradient(var(--sklearn-color-text-on-default-background), var(--sklearn-color-text-on-default-background));\n",
       "  background-size: 2px 100%;\n",
       "  background-repeat: no-repeat;\n",
       "  background-position: center center;\n",
       "}\n",
       "\n",
       "/* Parallel-specific style estimator block */\n",
       "\n",
       "#sk-container-id-4 div.sk-parallel-item::after {\n",
       "  content: \"\";\n",
       "  width: 100%;\n",
       "  border-bottom: 2px solid var(--sklearn-color-text-on-default-background);\n",
       "  flex-grow: 1;\n",
       "}\n",
       "\n",
       "#sk-container-id-4 div.sk-parallel {\n",
       "  display: flex;\n",
       "  align-items: stretch;\n",
       "  justify-content: center;\n",
       "  background-color: var(--sklearn-color-background);\n",
       "  position: relative;\n",
       "}\n",
       "\n",
       "#sk-container-id-4 div.sk-parallel-item {\n",
       "  display: flex;\n",
       "  flex-direction: column;\n",
       "}\n",
       "\n",
       "#sk-container-id-4 div.sk-parallel-item:first-child::after {\n",
       "  align-self: flex-end;\n",
       "  width: 50%;\n",
       "}\n",
       "\n",
       "#sk-container-id-4 div.sk-parallel-item:last-child::after {\n",
       "  align-self: flex-start;\n",
       "  width: 50%;\n",
       "}\n",
       "\n",
       "#sk-container-id-4 div.sk-parallel-item:only-child::after {\n",
       "  width: 0;\n",
       "}\n",
       "\n",
       "/* Serial-specific style estimator block */\n",
       "\n",
       "#sk-container-id-4 div.sk-serial {\n",
       "  display: flex;\n",
       "  flex-direction: column;\n",
       "  align-items: center;\n",
       "  background-color: var(--sklearn-color-background);\n",
       "  padding-right: 1em;\n",
       "  padding-left: 1em;\n",
       "}\n",
       "\n",
       "\n",
       "/* Toggleable style: style used for estimator/Pipeline/ColumnTransformer box that is\n",
       "clickable and can be expanded/collapsed.\n",
       "- Pipeline and ColumnTransformer use this feature and define the default style\n",
       "- Estimators will overwrite some part of the style using the `sk-estimator` class\n",
       "*/\n",
       "\n",
       "/* Pipeline and ColumnTransformer style (default) */\n",
       "\n",
       "#sk-container-id-4 div.sk-toggleable {\n",
       "  /* Default theme specific background. It is overwritten whether we have a\n",
       "  specific estimator or a Pipeline/ColumnTransformer */\n",
       "  background-color: var(--sklearn-color-background);\n",
       "}\n",
       "\n",
       "/* Toggleable label */\n",
       "#sk-container-id-4 label.sk-toggleable__label {\n",
       "  cursor: pointer;\n",
       "  display: block;\n",
       "  width: 100%;\n",
       "  margin-bottom: 0;\n",
       "  padding: 0.5em;\n",
       "  box-sizing: border-box;\n",
       "  text-align: center;\n",
       "}\n",
       "\n",
       "#sk-container-id-4 label.sk-toggleable__label-arrow:before {\n",
       "  /* Arrow on the left of the label */\n",
       "  content: \"▸\";\n",
       "  float: left;\n",
       "  margin-right: 0.25em;\n",
       "  color: var(--sklearn-color-icon);\n",
       "}\n",
       "\n",
       "#sk-container-id-4 label.sk-toggleable__label-arrow:hover:before {\n",
       "  color: var(--sklearn-color-text);\n",
       "}\n",
       "\n",
       "/* Toggleable content - dropdown */\n",
       "\n",
       "#sk-container-id-4 div.sk-toggleable__content {\n",
       "  max-height: 0;\n",
       "  max-width: 0;\n",
       "  overflow: hidden;\n",
       "  text-align: left;\n",
       "  /* unfitted */\n",
       "  background-color: var(--sklearn-color-unfitted-level-0);\n",
       "}\n",
       "\n",
       "#sk-container-id-4 div.sk-toggleable__content.fitted {\n",
       "  /* fitted */\n",
       "  background-color: var(--sklearn-color-fitted-level-0);\n",
       "}\n",
       "\n",
       "#sk-container-id-4 div.sk-toggleable__content pre {\n",
       "  margin: 0.2em;\n",
       "  border-radius: 0.25em;\n",
       "  color: var(--sklearn-color-text);\n",
       "  /* unfitted */\n",
       "  background-color: var(--sklearn-color-unfitted-level-0);\n",
       "}\n",
       "\n",
       "#sk-container-id-4 div.sk-toggleable__content.fitted pre {\n",
       "  /* unfitted */\n",
       "  background-color: var(--sklearn-color-fitted-level-0);\n",
       "}\n",
       "\n",
       "#sk-container-id-4 input.sk-toggleable__control:checked~div.sk-toggleable__content {\n",
       "  /* Expand drop-down */\n",
       "  max-height: 200px;\n",
       "  max-width: 100%;\n",
       "  overflow: auto;\n",
       "}\n",
       "\n",
       "#sk-container-id-4 input.sk-toggleable__control:checked~label.sk-toggleable__label-arrow:before {\n",
       "  content: \"▾\";\n",
       "}\n",
       "\n",
       "/* Pipeline/ColumnTransformer-specific style */\n",
       "\n",
       "#sk-container-id-4 div.sk-label input.sk-toggleable__control:checked~label.sk-toggleable__label {\n",
       "  color: var(--sklearn-color-text);\n",
       "  background-color: var(--sklearn-color-unfitted-level-2);\n",
       "}\n",
       "\n",
       "#sk-container-id-4 div.sk-label.fitted input.sk-toggleable__control:checked~label.sk-toggleable__label {\n",
       "  background-color: var(--sklearn-color-fitted-level-2);\n",
       "}\n",
       "\n",
       "/* Estimator-specific style */\n",
       "\n",
       "/* Colorize estimator box */\n",
       "#sk-container-id-4 div.sk-estimator input.sk-toggleable__control:checked~label.sk-toggleable__label {\n",
       "  /* unfitted */\n",
       "  background-color: var(--sklearn-color-unfitted-level-2);\n",
       "}\n",
       "\n",
       "#sk-container-id-4 div.sk-estimator.fitted input.sk-toggleable__control:checked~label.sk-toggleable__label {\n",
       "  /* fitted */\n",
       "  background-color: var(--sklearn-color-fitted-level-2);\n",
       "}\n",
       "\n",
       "#sk-container-id-4 div.sk-label label.sk-toggleable__label,\n",
       "#sk-container-id-4 div.sk-label label {\n",
       "  /* The background is the default theme color */\n",
       "  color: var(--sklearn-color-text-on-default-background);\n",
       "}\n",
       "\n",
       "/* On hover, darken the color of the background */\n",
       "#sk-container-id-4 div.sk-label:hover label.sk-toggleable__label {\n",
       "  color: var(--sklearn-color-text);\n",
       "  background-color: var(--sklearn-color-unfitted-level-2);\n",
       "}\n",
       "\n",
       "/* Label box, darken color on hover, fitted */\n",
       "#sk-container-id-4 div.sk-label.fitted:hover label.sk-toggleable__label.fitted {\n",
       "  color: var(--sklearn-color-text);\n",
       "  background-color: var(--sklearn-color-fitted-level-2);\n",
       "}\n",
       "\n",
       "/* Estimator label */\n",
       "\n",
       "#sk-container-id-4 div.sk-label label {\n",
       "  font-family: monospace;\n",
       "  font-weight: bold;\n",
       "  display: inline-block;\n",
       "  line-height: 1.2em;\n",
       "}\n",
       "\n",
       "#sk-container-id-4 div.sk-label-container {\n",
       "  text-align: center;\n",
       "}\n",
       "\n",
       "/* Estimator-specific */\n",
       "#sk-container-id-4 div.sk-estimator {\n",
       "  font-family: monospace;\n",
       "  border: 1px dotted var(--sklearn-color-border-box);\n",
       "  border-radius: 0.25em;\n",
       "  box-sizing: border-box;\n",
       "  margin-bottom: 0.5em;\n",
       "  /* unfitted */\n",
       "  background-color: var(--sklearn-color-unfitted-level-0);\n",
       "}\n",
       "\n",
       "#sk-container-id-4 div.sk-estimator.fitted {\n",
       "  /* fitted */\n",
       "  background-color: var(--sklearn-color-fitted-level-0);\n",
       "}\n",
       "\n",
       "/* on hover */\n",
       "#sk-container-id-4 div.sk-estimator:hover {\n",
       "  /* unfitted */\n",
       "  background-color: var(--sklearn-color-unfitted-level-2);\n",
       "}\n",
       "\n",
       "#sk-container-id-4 div.sk-estimator.fitted:hover {\n",
       "  /* fitted */\n",
       "  background-color: var(--sklearn-color-fitted-level-2);\n",
       "}\n",
       "\n",
       "/* Specification for estimator info (e.g. \"i\" and \"?\") */\n",
       "\n",
       "/* Common style for \"i\" and \"?\" */\n",
       "\n",
       ".sk-estimator-doc-link,\n",
       "a:link.sk-estimator-doc-link,\n",
       "a:visited.sk-estimator-doc-link {\n",
       "  float: right;\n",
       "  font-size: smaller;\n",
       "  line-height: 1em;\n",
       "  font-family: monospace;\n",
       "  background-color: var(--sklearn-color-background);\n",
       "  border-radius: 1em;\n",
       "  height: 1em;\n",
       "  width: 1em;\n",
       "  text-decoration: none !important;\n",
       "  margin-left: 1ex;\n",
       "  /* unfitted */\n",
       "  border: var(--sklearn-color-unfitted-level-1) 1pt solid;\n",
       "  color: var(--sklearn-color-unfitted-level-1);\n",
       "}\n",
       "\n",
       ".sk-estimator-doc-link.fitted,\n",
       "a:link.sk-estimator-doc-link.fitted,\n",
       "a:visited.sk-estimator-doc-link.fitted {\n",
       "  /* fitted */\n",
       "  border: var(--sklearn-color-fitted-level-1) 1pt solid;\n",
       "  color: var(--sklearn-color-fitted-level-1);\n",
       "}\n",
       "\n",
       "/* On hover */\n",
       "div.sk-estimator:hover .sk-estimator-doc-link:hover,\n",
       ".sk-estimator-doc-link:hover,\n",
       "div.sk-label-container:hover .sk-estimator-doc-link:hover,\n",
       ".sk-estimator-doc-link:hover {\n",
       "  /* unfitted */\n",
       "  background-color: var(--sklearn-color-unfitted-level-3);\n",
       "  color: var(--sklearn-color-background);\n",
       "  text-decoration: none;\n",
       "}\n",
       "\n",
       "div.sk-estimator.fitted:hover .sk-estimator-doc-link.fitted:hover,\n",
       ".sk-estimator-doc-link.fitted:hover,\n",
       "div.sk-label-container:hover .sk-estimator-doc-link.fitted:hover,\n",
       ".sk-estimator-doc-link.fitted:hover {\n",
       "  /* fitted */\n",
       "  background-color: var(--sklearn-color-fitted-level-3);\n",
       "  color: var(--sklearn-color-background);\n",
       "  text-decoration: none;\n",
       "}\n",
       "\n",
       "/* Span, style for the box shown on hovering the info icon */\n",
       ".sk-estimator-doc-link span {\n",
       "  display: none;\n",
       "  z-index: 9999;\n",
       "  position: relative;\n",
       "  font-weight: normal;\n",
       "  right: .2ex;\n",
       "  padding: .5ex;\n",
       "  margin: .5ex;\n",
       "  width: min-content;\n",
       "  min-width: 20ex;\n",
       "  max-width: 50ex;\n",
       "  color: var(--sklearn-color-text);\n",
       "  box-shadow: 2pt 2pt 4pt #999;\n",
       "  /* unfitted */\n",
       "  background: var(--sklearn-color-unfitted-level-0);\n",
       "  border: .5pt solid var(--sklearn-color-unfitted-level-3);\n",
       "}\n",
       "\n",
       ".sk-estimator-doc-link.fitted span {\n",
       "  /* fitted */\n",
       "  background: var(--sklearn-color-fitted-level-0);\n",
       "  border: var(--sklearn-color-fitted-level-3);\n",
       "}\n",
       "\n",
       ".sk-estimator-doc-link:hover span {\n",
       "  display: block;\n",
       "}\n",
       "\n",
       "/* \"?\"-specific style due to the `<a>` HTML tag */\n",
       "\n",
       "#sk-container-id-4 a.estimator_doc_link {\n",
       "  float: right;\n",
       "  font-size: 1rem;\n",
       "  line-height: 1em;\n",
       "  font-family: monospace;\n",
       "  background-color: var(--sklearn-color-background);\n",
       "  border-radius: 1rem;\n",
       "  height: 1rem;\n",
       "  width: 1rem;\n",
       "  text-decoration: none;\n",
       "  /* unfitted */\n",
       "  color: var(--sklearn-color-unfitted-level-1);\n",
       "  border: var(--sklearn-color-unfitted-level-1) 1pt solid;\n",
       "}\n",
       "\n",
       "#sk-container-id-4 a.estimator_doc_link.fitted {\n",
       "  /* fitted */\n",
       "  border: var(--sklearn-color-fitted-level-1) 1pt solid;\n",
       "  color: var(--sklearn-color-fitted-level-1);\n",
       "}\n",
       "\n",
       "/* On hover */\n",
       "#sk-container-id-4 a.estimator_doc_link:hover {\n",
       "  /* unfitted */\n",
       "  background-color: var(--sklearn-color-unfitted-level-3);\n",
       "  color: var(--sklearn-color-background);\n",
       "  text-decoration: none;\n",
       "}\n",
       "\n",
       "#sk-container-id-4 a.estimator_doc_link.fitted:hover {\n",
       "  /* fitted */\n",
       "  background-color: var(--sklearn-color-fitted-level-3);\n",
       "}\n",
       "</style><div id=\"sk-container-id-4\" class=\"sk-top-container\"><div class=\"sk-text-repr-fallback\"><pre>LogisticRegression()</pre><b>In a Jupyter environment, please rerun this cell to show the HTML representation or trust the notebook. <br />On GitHub, the HTML representation is unable to render, please try loading this page with nbviewer.org.</b></div><div class=\"sk-container\" hidden><div class=\"sk-item\"><div class=\"sk-estimator fitted sk-toggleable\"><input class=\"sk-toggleable__control sk-hidden--visually\" id=\"sk-estimator-id-4\" type=\"checkbox\" checked><label for=\"sk-estimator-id-4\" class=\"sk-toggleable__label fitted sk-toggleable__label-arrow fitted\">&nbsp;&nbsp;LogisticRegression<a class=\"sk-estimator-doc-link fitted\" rel=\"noreferrer\" target=\"_blank\" href=\"https://scikit-learn.org/1.5/modules/generated/sklearn.linear_model.LogisticRegression.html\">?<span>Documentation for LogisticRegression</span></a><span class=\"sk-estimator-doc-link fitted\">i<span>Fitted</span></span></label><div class=\"sk-toggleable__content fitted\"><pre>LogisticRegression()</pre></div> </div></div></div></div>"
      ],
      "text/plain": [
       "LogisticRegression()"
      ]
     },
     "execution_count": 132,
     "metadata": {},
     "output_type": "execute_result"
    }
   ],
   "source": [
    "#Rebuilt the model\n",
    "logreg_smote=LogisticRegression()\n",
    "logreg_smote.fit(X_train_smote,y_train_smote)"
   ]
  },
  {
   "cell_type": "code",
   "execution_count": 134,
   "id": "b60e3803-80bf-4908-ba90-f8ff516080eb",
   "metadata": {},
   "outputs": [
    {
     "name": "stdout",
     "output_type": "stream",
     "text": [
      "[[85605 26325]\n",
      " [30133 81797]]\n",
      "[[21390  6654]\n",
      " [  543  1413]]\n",
      "0.730787099079782\n",
      "0.7223926380368099\n"
     ]
    }
   ],
   "source": [
    "#Confusion matrix\n",
    "cm_train_smote=confusion_matrix(y_train_smote,logreg_smote.predict(X_train_smote))\n",
    "print(cm_train_smote)\n",
    "cm_test_smote=confusion_matrix(y_test,logreg_smote.predict(X_test))\n",
    "print(cm_test_smote)\n",
    "#Class-1 Accuracy on Train\n",
    "class_1_accuracy_smote=cm_train_smote[1,1]/(cm_train_smote[1,0]+cm_train_smote[1,1])\n",
    "print(class_1_accuracy_smote)\n",
    "#Class-1 Accuracy on Test\n",
    "class_1_accuracy_smote=cm_test_smote[1,1]/(cm_test_smote[1,0]+cm_test_smote[1,1])\n",
    "print(class_1_accuracy_smote)"
   ]
  },
  {
   "cell_type": "code",
   "execution_count": 135,
   "id": "100a0e97-ddae-408f-9ce3-fb1e8ba02bf3",
   "metadata": {},
   "outputs": [
    {
     "name": "stdout",
     "output_type": "stream",
     "text": [
      "Original dataset shape Counter({0: 111930, 1: 8070})\n",
      "Resampled dataset shape Counter({0: 111930, 1: 111930})\n"
     ]
    }
   ],
   "source": [
    "import collections\n",
    "print('Original dataset shape {}'.format(collections.Counter(y_train)))\n",
    "print('Resampled dataset shape {}'.format(collections.Counter(y_train_smote)))"
   ]
  },
  {
   "cell_type": "code",
   "execution_count": null,
   "id": "2629c6fa-93bf-4eff-b366-441dde459a0c",
   "metadata": {},
   "outputs": [],
   "source": []
  },
  {
   "cell_type": "code",
   "execution_count": null,
   "id": "45507d22-0871-4371-89b1-8a4a4650ac47",
   "metadata": {},
   "outputs": [],
   "source": []
  },
  {
   "cell_type": "code",
   "execution_count": null,
   "id": "92364d55-6370-4eaa-831d-f316ad620d2a",
   "metadata": {},
   "outputs": [],
   "source": []
  },
  {
   "cell_type": "code",
   "execution_count": null,
   "id": "85e9bf04-dcdc-4c36-a271-44c3b5f99a80",
   "metadata": {},
   "outputs": [],
   "source": []
  },
  {
   "cell_type": "code",
   "execution_count": null,
   "id": "66130c64-a711-4df8-b65d-a148b5a1ad42",
   "metadata": {},
   "outputs": [],
   "source": []
  },
  {
   "cell_type": "code",
   "execution_count": null,
   "id": "ccadb7fd-f0ef-4ea8-b5f9-2a031c688bc7",
   "metadata": {},
   "outputs": [],
   "source": []
  }
 ],
 "metadata": {
  "kernelspec": {
   "display_name": "Python 3 (ipykernel)",
   "language": "python",
   "name": "python3"
  },
  "language_info": {
   "codemirror_mode": {
    "name": "ipython",
    "version": 3
   },
   "file_extension": ".py",
   "mimetype": "text/x-python",
   "name": "python",
   "nbconvert_exporter": "python",
   "pygments_lexer": "ipython3",
   "version": "3.12.7"
  }
 },
 "nbformat": 4,
 "nbformat_minor": 5
}
